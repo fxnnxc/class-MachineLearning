{
  "nbformat": 4,
  "nbformat_minor": 0,
  "metadata": {
    "colab": {
      "name": "Assignment07.ipynb",
      "provenance": [],
      "authorship_tag": "ABX9TyMMa05+DGBP/2pv+woxwZW4",
      "include_colab_link": true
    },
    "kernelspec": {
      "name": "python3",
      "display_name": "Python 3"
    }
  },
  "cells": [
    {
      "cell_type": "markdown",
      "metadata": {
        "id": "view-in-github",
        "colab_type": "text"
      },
      "source": [
        "<a href=\"https://colab.research.google.com/github/fxnnxc/class-MachineLearning/blob/master/Assignment07.ipynb\" target=\"_parent\"><img src=\"https://colab.research.google.com/assets/colab-badge.svg\" alt=\"Open In Colab\"/></a>"
      ]
    },
    {
      "cell_type": "markdown",
      "metadata": {
        "id": "5vJLoItsaHYp",
        "colab_type": "text"
      },
      "source": [
        "# Assignment 07\n",
        "\n",
        "Logistic regression for a binary classification with a regularization"
      ]
    },
    {
      "cell_type": "markdown",
      "metadata": {
        "id": "PlkjTSlPaWP7",
        "colab_type": "text"
      },
      "source": [
        "## I. Code"
      ]
    },
    {
      "cell_type": "markdown",
      "metadata": {
        "id": "d4bOHScHaaRl",
        "colab_type": "text"
      },
      "source": [
        "### 1.Training Data"
      ]
    },
    {
      "cell_type": "code",
      "metadata": {
        "id": "6DAsDv87a2xK",
        "colab_type": "code",
        "colab": {}
      },
      "source": [
        "import numpy as np \n",
        "import matplotlib.pyplot as plt\n",
        "data    = np.genfromtxt(\"data07.txt\", delimiter=',')\n",
        "pointX  = data[:, 0] \n",
        "pointY  = data[:, 1] \n",
        "label   = data[:, 2]\n",
        "\n",
        "pointX0 = pointX[label == 0] \n",
        "pointY0 = pointY[label == 0]\n",
        "pointX1 = pointX[label == 1] \n",
        "pointY1 = pointY[label == 1]"
      ],
      "execution_count": 0,
      "outputs": []
    },
    {
      "cell_type": "markdown",
      "metadata": {
        "id": "9esEBpyoagIT",
        "colab_type": "text"
      },
      "source": [
        "### 2. Logistic Regression with a high dimensional feature function"
      ]
    },
    {
      "cell_type": "code",
      "metadata": {
        "id": "gSNES9Q3_juQ",
        "colab_type": "code",
        "colab": {}
      },
      "source": [
        "import math\n",
        "\n",
        "# haperparameters \n",
        "tht = [[1]*11]*11 # theta for function \n",
        "lr = 0.001\n",
        "\n",
        "def sigmoid(x): #시그모이드 함수\n",
        "    return 1/(1+math.exp(-x))\n",
        "\n",
        "def G(x,y): #x,y에 대한 모델 \n",
        "  g = 0\n",
        "  for j in range(11):\n",
        "    for i in range(11):\n",
        "      g += tht[j][i]*(x**i)*(y**j)\n",
        "  return g\n",
        "\n",
        "def calculate_acc(data):#데이터에 대한 정확도 계산\n",
        "  correct = 0\n",
        "  for d in data:\n",
        "    if sigmoid(G(d[0],d[1]))>=1/2:\n",
        "      if d[2]==1:\n",
        "        correct +=1\n",
        "    else:\n",
        "      if d[2]==0:\n",
        "        correct +=1\n",
        "  return correct/len(data)"
      ],
      "execution_count": 0,
      "outputs": []
    },
    {
      "cell_type": "markdown",
      "metadata": {
        "id": "MlLoQxE2agUZ",
        "colab_type": "text"
      },
      "source": [
        "### 3. Objective Function with a regularization term"
      ]
    },
    {
      "cell_type": "code",
      "metadata": {
        "id": "p_cDY4aYdexd",
        "colab_type": "code",
        "colab": {}
      },
      "source": [
        "lambda1 = 0.001\n",
        "lambda2 = 0.01\n",
        "lambda3 = 0.1\n",
        "\n",
        "def loss(data, lamb): #세타값에 대한 데이터의 로스\n",
        "    Z = [(G(d[0], d[1]) ,int(d[2])) for d in data] # Z값을 미리 계산해둔다. \n",
        "    entropy = sum([-z[1]*math.log(sigmoid(z[0]))-(1-z[1])*math.log(1-sigmoid(z[0])) for z in Z])/len(Z) # 데이터와 세타\n",
        "    regularization =  lamb * sum([sum([tht[j][i]**2 for i in range(11)]) for j in range(11)])/2           # Regularization term\n",
        "    return entropy + regularization"
      ],
      "execution_count": 0,
      "outputs": []
    },
    {
      "cell_type": "markdown",
      "metadata": {
        "id": "Ch04SPPZagoD",
        "colab_type": "text"
      },
      "source": [
        "### 4. Gradient Descent\n",
        "\n",
        "def gradient_descent():\n",
        "  "
      ]
    },
    {
      "cell_type": "code",
      "metadata": {
        "id": "NLbkngh1_0qP",
        "colab_type": "code",
        "colab": {}
      },
      "source": [
        "def gradient_descent(lamb):\n",
        "  global tht\n",
        "  tht_buffer = tht[:] # 변경 전 세타 값을 저장해서 한 번에 바꾼다. \n",
        "  sig = [G(d[0],d[1]) for d in data] # Z값을 미리 계산해둔다. \n",
        "  for j in range(11):\n",
        "    for i in range(11):\n",
        "      tht_buffer[j][i] = tht[j][i] - lr*(sum([(sig[k] - d[2])*(d[0]**i)*(d[1]**j) for k,d in enumerate(data)])/len(sig) + lamb*tht[j][i])\n",
        "  tht = tht_buffer[:] # tht 전역 변수에 업데이트된 세타값 저장"
      ],
      "execution_count": 0,
      "outputs": []
    },
    {
      "cell_type": "markdown",
      "metadata": {
        "id": "woDa_UoSagxD",
        "colab_type": "text"
      },
      "source": [
        "### 5. Training"
      ]
    },
    {
      "cell_type": "code",
      "metadata": {
        "id": "Eb3dmatZASyW",
        "colab_type": "code",
        "colab": {}
      },
      "source": [
        "# Initialize\n",
        "J  = loss(data, lambda1)\n",
        "J1 = []\n",
        "J2 = []\n",
        "J3 = []\n",
        "\n",
        "ACC1 =[]\n",
        "ACC2 =[]\n",
        "ACC3 =[]\n",
        "\n",
        "tht_over = []\n",
        "tht_right= []\n",
        "tht_under= []\n",
        "\n",
        "# Training function\n",
        "def training(lamb,loss_list, acc_list, restart=False, tht_store= None):\n",
        "  if restart:\n",
        "    for j in range(11):\n",
        "      for i in range(11):\n",
        "        tht[j][i]=1\n",
        "    J = loss(data, lamb)\n",
        "    loss_list.clear()\n",
        "    acc_list.clear()\n",
        "    count = 0\n",
        "  while True:\n",
        "    temp = J\n",
        "    gradient_descent(lamb)\n",
        "    acc_list.append(calculate_acc(data))\n",
        "    # Update and Store Loss\n",
        "    J = loss(data, lamb)\n",
        "    loss_list.append(J)\n",
        "    if count > 10000:\n",
        "      break\n",
        "    else:\n",
        "      count +=1\n",
        "    #if abs(J-loss_list[len(loss_list)-2])  < 1e-7: # Convergence\n",
        "    tht_store = tht[:]"
      ],
      "execution_count": 0,
      "outputs": []
    },
    {
      "cell_type": "code",
      "metadata": {
        "id": "Awa4-P_O_utf",
        "colab_type": "code",
        "colab": {}
      },
      "source": [
        "import time\n",
        "start = time.time()\n",
        "training(lambda1, J1, ACC1, restart=True, tht_store=tht_over ) # Over  - fitting\n",
        "training(lambda2, J2, ACC2, restart=True, tht_store=tht_right) # right - fitting\n",
        "training(lambda3, J3, ACC3, restart=True, tht_store=tht_under) # under - fitting\n",
        "print(\"training took \",time.time() - start, \" seconds\")"
      ],
      "execution_count": 0,
      "outputs": []
    },
    {
      "cell_type": "code",
      "metadata": {
        "id": "7LcsgObXThRC",
        "colab_type": "code",
        "colab": {
          "base_uri": "https://localhost:8080/",
          "height": 362
        },
        "outputId": "2a2da780-9717-4c10-aa4e-eee1f75a79f5"
      },
      "source": [
        "# Decision Boundary\n",
        "\n",
        "# Contour\n",
        "X_mesh, Y_mesh = np.meshgrid(np.linspace(-1.2,1.2, 100),\n",
        "                     np.linspace(-1.2, 1.2, 100))\n",
        "\n",
        "\n",
        "tht_list = [tht_over, tht_right, tht_under]\n",
        "Z_list = [[],[],[]]\n",
        "for i in range(3):\n",
        "  tht = tht_list[i]\n",
        "  g = G(X_mesh, Y_mesh)\n",
        "  for g1 in g:\n",
        "    Z[i].append([sigmoid(g2) for g2 in g1])\n",
        "\n",
        "\n",
        "# Decision Boundary\n",
        "DX= []\n",
        "DY= []\n",
        "DecisionBoundary = []\n",
        "for x in  np.arange(-1, 1,0.001):\n",
        "  for y in  np.arange(-1, 1,0.001):\n",
        "    if abs(sigmoid(G(x,y)))<=0.001:\n",
        "      DX.append(x)\n",
        "      YY.append(y)"
      ],
      "execution_count": 160,
      "outputs": [
        {
          "output_type": "error",
          "ename": "IndexError",
          "evalue": "ignored",
          "traceback": [
            "\u001b[0;31m---------------------------------------------------------------------------\u001b[0m",
            "\u001b[0;31mIndexError\u001b[0m                                Traceback (most recent call last)",
            "\u001b[0;32m<ipython-input-160-892ee3f5a559>\u001b[0m in \u001b[0;36m<module>\u001b[0;34m()\u001b[0m\n\u001b[1;32m      7\u001b[0m \u001b[0;32mfor\u001b[0m \u001b[0mi\u001b[0m \u001b[0;32min\u001b[0m \u001b[0mrange\u001b[0m\u001b[0;34m(\u001b[0m\u001b[0;36m3\u001b[0m\u001b[0;34m)\u001b[0m\u001b[0;34m:\u001b[0m\u001b[0;34m\u001b[0m\u001b[0;34m\u001b[0m\u001b[0m\n\u001b[1;32m      8\u001b[0m   \u001b[0mtht\u001b[0m \u001b[0;34m=\u001b[0m \u001b[0mtht_list\u001b[0m\u001b[0;34m[\u001b[0m\u001b[0mi\u001b[0m\u001b[0;34m]\u001b[0m\u001b[0;34m\u001b[0m\u001b[0;34m\u001b[0m\u001b[0m\n\u001b[0;32m----> 9\u001b[0;31m   \u001b[0mg\u001b[0m \u001b[0;34m=\u001b[0m \u001b[0mG\u001b[0m\u001b[0;34m(\u001b[0m\u001b[0mX_mesh\u001b[0m\u001b[0;34m,\u001b[0m \u001b[0mY_mesh\u001b[0m\u001b[0;34m)\u001b[0m\u001b[0;34m\u001b[0m\u001b[0;34m\u001b[0m\u001b[0m\n\u001b[0m\u001b[1;32m     10\u001b[0m   \u001b[0;32mfor\u001b[0m \u001b[0mg1\u001b[0m \u001b[0;32min\u001b[0m \u001b[0mg\u001b[0m\u001b[0;34m:\u001b[0m\u001b[0;34m\u001b[0m\u001b[0;34m\u001b[0m\u001b[0m\n\u001b[1;32m     11\u001b[0m     \u001b[0mZ\u001b[0m\u001b[0;34m[\u001b[0m\u001b[0mi\u001b[0m\u001b[0;34m]\u001b[0m\u001b[0;34m.\u001b[0m\u001b[0mappend\u001b[0m\u001b[0;34m(\u001b[0m\u001b[0;34m[\u001b[0m\u001b[0msigmoid\u001b[0m\u001b[0;34m(\u001b[0m\u001b[0mg2\u001b[0m\u001b[0;34m)\u001b[0m \u001b[0;32mfor\u001b[0m \u001b[0mg2\u001b[0m \u001b[0;32min\u001b[0m \u001b[0mg1\u001b[0m\u001b[0;34m]\u001b[0m\u001b[0;34m)\u001b[0m\u001b[0;34m\u001b[0m\u001b[0;34m\u001b[0m\u001b[0m\n",
            "\u001b[0;32m<ipython-input-126-05a9ddebafe1>\u001b[0m in \u001b[0;36mG\u001b[0;34m(x, y)\u001b[0m\n\u001b[1;32m     12\u001b[0m   \u001b[0;32mfor\u001b[0m \u001b[0mj\u001b[0m \u001b[0;32min\u001b[0m \u001b[0mrange\u001b[0m\u001b[0;34m(\u001b[0m\u001b[0;36m11\u001b[0m\u001b[0;34m)\u001b[0m\u001b[0;34m:\u001b[0m\u001b[0;34m\u001b[0m\u001b[0;34m\u001b[0m\u001b[0m\n\u001b[1;32m     13\u001b[0m     \u001b[0;32mfor\u001b[0m \u001b[0mi\u001b[0m \u001b[0;32min\u001b[0m \u001b[0mrange\u001b[0m\u001b[0;34m(\u001b[0m\u001b[0;36m11\u001b[0m\u001b[0;34m)\u001b[0m\u001b[0;34m:\u001b[0m\u001b[0;34m\u001b[0m\u001b[0;34m\u001b[0m\u001b[0m\n\u001b[0;32m---> 14\u001b[0;31m       \u001b[0mg\u001b[0m \u001b[0;34m+=\u001b[0m \u001b[0mtht\u001b[0m\u001b[0;34m[\u001b[0m\u001b[0mj\u001b[0m\u001b[0;34m]\u001b[0m\u001b[0;34m[\u001b[0m\u001b[0mi\u001b[0m\u001b[0;34m]\u001b[0m\u001b[0;34m*\u001b[0m\u001b[0;34m(\u001b[0m\u001b[0mx\u001b[0m\u001b[0;34m**\u001b[0m\u001b[0mi\u001b[0m\u001b[0;34m)\u001b[0m\u001b[0;34m*\u001b[0m\u001b[0;34m(\u001b[0m\u001b[0my\u001b[0m\u001b[0;34m**\u001b[0m\u001b[0mj\u001b[0m\u001b[0;34m)\u001b[0m\u001b[0;34m\u001b[0m\u001b[0;34m\u001b[0m\u001b[0m\n\u001b[0m\u001b[1;32m     15\u001b[0m   \u001b[0;32mreturn\u001b[0m \u001b[0mg\u001b[0m\u001b[0;34m\u001b[0m\u001b[0;34m\u001b[0m\u001b[0m\n\u001b[1;32m     16\u001b[0m \u001b[0;34m\u001b[0m\u001b[0m\n",
            "\u001b[0;31mIndexError\u001b[0m: list index out of range"
          ]
        }
      ]
    },
    {
      "cell_type": "markdown",
      "metadata": {
        "id": "hQKMId_8aglB",
        "colab_type": "text"
      },
      "source": [
        "### 6. Accuracy\n",
        "\n",
        "Training을 하면서 Accuracy 또한 계산되며, 이는 ACC리스트에 저장된다. "
      ]
    },
    {
      "cell_type": "markdown",
      "metadata": {
        "id": "xYBibm_Kageq",
        "colab_type": "text"
      },
      "source": [
        "## II. Results"
      ]
    },
    {
      "cell_type": "markdown",
      "metadata": {
        "id": "Oc2WiAPragb2",
        "colab_type": "text"
      },
      "source": [
        "### 1. The training data\n",
        "* label 0 = blue\n",
        "* label 1 = red"
      ]
    },
    {
      "cell_type": "code",
      "metadata": {
        "id": "rHiSvG4FaFbs",
        "colab_type": "code",
        "colab": {}
      },
      "source": [
        "plt.figure()\n",
        "plt.scatter(pointX0, pointY0, c='b') \n",
        "plt.scatter(pointX1, pointY1, c='r') \n",
        "plt.tight_layout() \n",
        "plt.gca().set_aspect('equal', adjustable='box') \n",
        "plt.show()"
      ],
      "execution_count": 0,
      "outputs": []
    },
    {
      "cell_type": "markdown",
      "metadata": {
        "id": "Xn8IfXxBcJHj",
        "colab_type": "text"
      },
      "source": [
        "### 2. training error with varying regularization parameters\n",
        "\n",
        "* $\\lambda_1$ =0.001 :  over-fitting is demonstrated ($J(\\theta)$ in red)\n",
        "* $\\lambda_2$ =0.1   :  just-right is demonstrated ($J(\\theta)$ in green)\n",
        "* $\\lambda_3$  =1    :  under-fitting is demonstrated ($J(\\theta)$ in blue)"
      ]
    },
    {
      "cell_type": "code",
      "metadata": {
        "id": "GC-Ucl5ncPai",
        "colab_type": "code",
        "colab": {}
      },
      "source": [
        "plt.figure()\n",
        "plt.plot(J1, c='r') \n",
        "plt.plot(J2, c='g') \n",
        "plt.plot(J3, c='b') \n",
        "#plt.tight_layout() \n",
        "plt.title('training error with varying regularization parameters')\n",
        "plt.legend(['over-fitting', 'just-right', 'under-fitting'])\n",
        "plt.show()"
      ],
      "execution_count": 0,
      "outputs": []
    },
    {
      "cell_type": "markdown",
      "metadata": {
        "id": "0a1rs7RJcJOZ",
        "colab_type": "text"
      },
      "source": [
        "### 3. The values of the chosen regularization parameteres $\\lambda$"
      ]
    },
    {
      "cell_type": "code",
      "metadata": {
        "id": "E7godUcKcPXF",
        "colab_type": "code",
        "colab": {}
      },
      "source": [
        "plt.figure(figsize=(6,6))\n",
        "plt.scatter(['over fitting', 'just right', 'under fitting'], [lambda1,lambda2,lambda3], color=['r','g','b'])\n",
        "plt.text('over fitting', lambda1 , str(lambda1))\n",
        "plt.text('just right', lambda2 , str(lambda2))\n",
        "plt.text('under fitting', lambda3 , str(lambda3))\n",
        "plt.title('The values of the chosen regularization parameteres')"
      ],
      "execution_count": 0,
      "outputs": []
    },
    {
      "cell_type": "markdown",
      "metadata": {
        "id": "4sQjoGzzcJRZ",
        "colab_type": "text"
      },
      "source": [
        "### 4. The training accuracy with varying regularaization parameters\n",
        "\n"
      ]
    },
    {
      "cell_type": "code",
      "metadata": {
        "id": "_lt5V8t3esrs",
        "colab_type": "code",
        "colab": {}
      },
      "source": [
        "plt.figure()\n",
        "plt.plot(ACC1, c='r') \n",
        "plt.plot(ACC2, c='g') \n",
        "plt.plot(ACC3, c='b') \n",
        "plt.tight_layout() \n",
        "plt.title('training accuracy with varying regularization parameters')\n",
        "plt.legend(['over-fitting', 'just-right', 'under-fitting'])\n",
        "plt.show()"
      ],
      "execution_count": 0,
      "outputs": []
    },
    {
      "cell_type": "markdown",
      "metadata": {
        "id": "jKYcNK2-cJZ6",
        "colab_type": "text"
      },
      "source": [
        "### 5.The final training accuracy with varying regularization parameters"
      ]
    },
    {
      "cell_type": "code",
      "metadata": {
        "id": "AxH81jxpe95E",
        "colab_type": "code",
        "colab": {}
      },
      "source": [
        "plt.figure(figsize=(6,6))\n",
        "plt.scatter(['over fitting', 'just right', 'under fitting'], [ACC1[-1], ACC2[-1], ACC3[-1]], color=['r','g','b'])\n",
        "plt.text('over fitting',ACC1[-1] , str(ACC1[-1]))\n",
        "plt.text('just right', ACC2[-1], str(ACC2[-1]))\n",
        "plt.text('under fitting', ACC3[-1] , str(ACC3[-1]))\n",
        "plt.title('The final training accuracy with varying regularization parameters')"
      ],
      "execution_count": 0,
      "outputs": []
    },
    {
      "cell_type": "markdown",
      "metadata": {
        "id": "PSkbZk5ZcJWq",
        "colab_type": "text"
      },
      "source": [
        "### 6. The optimal classifier with varying regularization parameters superimposed on the training data\n",
        "\n"
      ]
    },
    {
      "cell_type": "code",
      "metadata": {
        "id": "5ITdYx_7bAbQ",
        "colab_type": "code",
        "colab": {}
      },
      "source": [
        "f = plt.figure(figsize=(10,10))\n",
        "plt.title('Optimal classifier')\n",
        "plt.colorbar(format=' %0.1f', label='Label') # Colorbar Label 추가\n",
        "plt.scatter(pointX0, pointY0, alpha=1, c='b')\n",
        "plt.scatter(pointX1, pointY1, alpha=1, c='r')\n",
        "plt.contour(f, levels=[0.5], alpha=1,colors=('green',),linestyles=('--',),linewidths=(1,))\n",
        "plt.contour(f levels=[0.5], alpha=1,colors=('green',),linestyles=('--',),linewidths=(1,))\n",
        "plt.contour(f, levels=[0.5], alpha=1,colors=('green',),linestyles=('--',),linewidths=(1,))"
      ],
      "execution_count": 0,
      "outputs": []
    }
  ]
}