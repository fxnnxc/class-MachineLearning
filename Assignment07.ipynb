{
  "nbformat": 4,
  "nbformat_minor": 0,
  "metadata": {
    "colab": {
      "name": "Assignment07.ipynb",
      "provenance": [],
      "authorship_tag": "ABX9TyO+yXSu523Eqf068hX7w9FJ",
      "include_colab_link": true
    },
    "kernelspec": {
      "name": "python3",
      "display_name": "Python 3"
    }
  },
  "cells": [
    {
      "cell_type": "markdown",
      "metadata": {
        "id": "view-in-github",
        "colab_type": "text"
      },
      "source": [
        "<a href=\"https://colab.research.google.com/github/fxnnxc/class-MachineLearning/blob/master/Assignment07.ipynb\" target=\"_parent\"><img src=\"https://colab.research.google.com/assets/colab-badge.svg\" alt=\"Open In Colab\"/></a>"
      ]
    },
    {
      "cell_type": "markdown",
      "metadata": {
        "id": "5vJLoItsaHYp",
        "colab_type": "text"
      },
      "source": [
        "# Assignment 07\n",
        "\n",
        "Logistic regression for a binary classification with a regularization"
      ]
    },
    {
      "cell_type": "markdown",
      "metadata": {
        "id": "PlkjTSlPaWP7",
        "colab_type": "text"
      },
      "source": [
        "## I. Code"
      ]
    },
    {
      "cell_type": "markdown",
      "metadata": {
        "id": "d4bOHScHaaRl",
        "colab_type": "text"
      },
      "source": [
        "### 1.Training Data"
      ]
    },
    {
      "cell_type": "code",
      "metadata": {
        "id": "6DAsDv87a2xK",
        "colab_type": "code",
        "colab": {}
      },
      "source": [
        "import numpy as np \n",
        "import matplotlib.pyplot as plt\n",
        "data    = np.genfromtxt(\"data07.txt\", delimiter=',')\n",
        "pointX  = data[:, 0] \n",
        "pointY  = data[:, 1] \n",
        "label   = data[:, 2]\n",
        "\n",
        "pointX0 = pointX[label == 0] \n",
        "pointY0 = pointY[label == 0]\n",
        "pointX1 = pointX[label == 1] \n",
        "pointY1 = pointY[label == 1]"
      ],
      "execution_count": 0,
      "outputs": []
    },
    {
      "cell_type": "markdown",
      "metadata": {
        "id": "9esEBpyoagIT",
        "colab_type": "text"
      },
      "source": [
        "### 2. Logistic Regression with a high dimensional feature function"
      ]
    },
    {
      "cell_type": "markdown",
      "metadata": {
        "id": "MlLoQxE2agUZ",
        "colab_type": "text"
      },
      "source": [
        "### 3. Objective Function with a regularization term"
      ]
    },
    {
      "cell_type": "code",
      "metadata": {
        "id": "p_cDY4aYdexd",
        "colab_type": "code",
        "colab": {}
      },
      "source": [
        "lambda1 = 0.001\n",
        "lambda2 = 0.01\n",
        "lambda3 = 1\n",
        "\n",
        "J1 = []\n",
        "J2 = []\n",
        "J3 = []\n",
        "\n",
        "ACC1 =[]\n",
        "ACC2 =[]\n",
        "ACC3 =[]"
      ],
      "execution_count": 0,
      "outputs": []
    },
    {
      "cell_type": "markdown",
      "metadata": {
        "id": "Ch04SPPZagoD",
        "colab_type": "text"
      },
      "source": [
        "### 4. Gradient Descent"
      ]
    },
    {
      "cell_type": "markdown",
      "metadata": {
        "id": "woDa_UoSagxD",
        "colab_type": "text"
      },
      "source": [
        "### 5. Training"
      ]
    },
    {
      "cell_type": "markdown",
      "metadata": {
        "id": "hQKMId_8aglB",
        "colab_type": "text"
      },
      "source": [
        "### 6. Accuracy"
      ]
    },
    {
      "cell_type": "markdown",
      "metadata": {
        "id": "m2lReCN4agh8",
        "colab_type": "text"
      },
      "source": [
        ""
      ]
    },
    {
      "cell_type": "markdown",
      "metadata": {
        "id": "xYBibm_Kageq",
        "colab_type": "text"
      },
      "source": [
        "## II. Results"
      ]
    },
    {
      "cell_type": "markdown",
      "metadata": {
        "id": "Oc2WiAPragb2",
        "colab_type": "text"
      },
      "source": [
        "### 1. The training data\n",
        "* label 0 = blue\n",
        "* label 1 = red"
      ]
    },
    {
      "cell_type": "code",
      "metadata": {
        "id": "rHiSvG4FaFbs",
        "colab_type": "code",
        "colab": {
          "base_uri": "https://localhost:8080/",
          "height": 297
        },
        "outputId": "67a2cd0f-dbc1-4684-9f63-ce05e6def938"
      },
      "source": [
        "plt.figure()\n",
        "plt.scatter(pointX0, pointY0, c='b') \n",
        "plt.scatter(pointX1, pointY1, c='r') \n",
        "plt.tight_layout() \n",
        "plt.gca().set_aspect('equal', adjustable='box') \n",
        "plt.show()"
      ],
      "execution_count": 11,
      "outputs": [
        {
          "output_type": "display_data",
          "data": {
            "image/png": "[encoded data removed]",
            "text/plain": [
              "<Figure size 432x288 with 1 Axes>"
            ]
          },
          "metadata": {
            "tags": [],
            "needs_background": "light"
          }
        }
      ]
    },
    {
      "cell_type": "markdown",
      "metadata": {
        "id": "Xn8IfXxBcJHj",
        "colab_type": "text"
      },
      "source": [
        "### 2. training error with varying regularization parameters\n",
        "\n",
        "* $\\lambda_1$ =0.001 :  over-fitting is demonstrated ($J(\\theta)$ in red)\n",
        "* $\\lambda_2$ =0.1   :  just-right is demonstrated ($J(\\theta)$ in green)\n",
        "* $\\lambda_3$  =1    :  under-fitting is demonstrated ($J(\\theta)$ in blue)"
      ]
    },
    {
      "cell_type": "code",
      "metadata": {
        "id": "GC-Ucl5ncPai",
        "colab_type": "code",
        "colab": {
          "base_uri": "https://localhost:8080/",
          "height": 313
        },
        "outputId": "0a65ce7c-0ab0-44c0-857e-767c37e34095"
      },
      "source": [
        "plt.figure()\n",
        "plt.plot(J1, c='r') \n",
        "plt.plot(J2, c='g') \n",
        "plt.plot(J3, c='b') \n",
        "plt.tight_layout() \n",
        "plt.gca().set_aspect('equal', adjustable='box') \n",
        "plt.title('training error with varying regularization parameters')\n",
        "plt.legend(['over-fitting', 'just-right', 'under-fitting'])\n",
        "plt.show()"
      ],
      "execution_count": 16,
      "outputs": [
        {
          "output_type": "display_data",
          "data": {
            "image/png": "[encoded data removed]",
            "text/plain": [
              "<Figure size 432x288 with 1 Axes>"
            ]
          },
          "metadata": {
            "tags": [],
            "needs_background": "light"
          }
        }
      ]
    },
    {
      "cell_type": "markdown",
      "metadata": {
        "id": "0a1rs7RJcJOZ",
        "colab_type": "text"
      },
      "source": [
        "### 3. The values of the chosen regularization parameteres $\\lambda$"
      ]
    },
    {
      "cell_type": "code",
      "metadata": {
        "id": "E7godUcKcPXF",
        "colab_type": "code",
        "colab": {
          "base_uri": "https://localhost:8080/",
          "height": 70
        },
        "outputId": "a8cc0354-e92a-4e39-c41d-5b3f49064678"
      },
      "source": [
        "print(\"Lambda when over-fitting  : \",lambda1)\n",
        "print(\"Lambda when just-right    : \",lambda1)\n",
        "print(\"Lambda when under-fitting : \",lambda1)"
      ],
      "execution_count": 22,
      "outputs": [
        {
          "output_type": "stream",
          "text": [
            "Lambda when over-fitting  :  0.001\n",
            "Lambda when just-right    :  0.001\n",
            "Lambda when under-fitting :  0.001\n"
          ],
          "name": "stdout"
        }
      ]
    },
    {
      "cell_type": "markdown",
      "metadata": {
        "id": "4sQjoGzzcJRZ",
        "colab_type": "text"
      },
      "source": [
        "### 4. The training accuracy with varying regularaization parameters\n",
        "\n"
      ]
    },
    {
      "cell_type": "code",
      "metadata": {
        "id": "_lt5V8t3esrs",
        "colab_type": "code",
        "colab": {
          "base_uri": "https://localhost:8080/",
          "height": 313
        },
        "outputId": "989ae1cc-f63b-4c5a-ce2a-4ded555ab9a5"
      },
      "source": [
        "plt.figure()\n",
        "plt.plot(ACC1, c='r') \n",
        "plt.plot(ACC2, c='g') \n",
        "plt.plot(ACC3, c='b') \n",
        "plt.tight_layout() \n",
        "plt.gca().set_aspect('equal', adjustable='box') \n",
        "plt.title('training accuracy with varying regularization parameters')\n",
        "plt.legend(['over-fitting', 'just-right', 'under-fitting'])\n",
        "plt.show()"
      ],
      "execution_count": 25,
      "outputs": [
        {
          "output_type": "display_data",
          "data": {
            "image/png": "[encoded data removed]",
            "text/plain": [
              "<Figure size 432x288 with 1 Axes>"
            ]
          },
          "metadata": {
            "tags": [],
            "needs_background": "light"
          }
        }
      ]
    },
    {
      "cell_type": "markdown",
      "metadata": {
        "id": "jKYcNK2-cJZ6",
        "colab_type": "text"
      },
      "source": [
        "### 5.The final training accuracy with varying regularization parameters"
      ]
    },
    {
      "cell_type": "code",
      "metadata": {
        "id": "AxH81jxpe95E",
        "colab_type": "code",
        "colab": {
          "base_uri": "https://localhost:8080/",
          "height": 204
        },
        "outputId": "c925f992-d669-41e0-f940-a0b7f9d8e87e"
      },
      "source": [
        "print(\"The training Accuracy when over-fitting  : \",ACC1[-1])\n",
        "print(\"The training Accuracy when just-right    : \",ACC1[-1])\n",
        "print(\"The training Accuracy when under-fitting : \",ACC1[-1])"
      ],
      "execution_count": 26,
      "outputs": [
        {
          "output_type": "error",
          "ename": "IndexError",
          "evalue": "ignored",
          "traceback": [
            "\u001b[0;31m---------------------------------------------------------------------------\u001b[0m",
            "\u001b[0;31mIndexError\u001b[0m                                Traceback (most recent call last)",
            "\u001b[0;32m<ipython-input-26-606b27d74d23>\u001b[0m in \u001b[0;36m<module>\u001b[0;34m()\u001b[0m\n\u001b[0;32m----> 1\u001b[0;31m \u001b[0mprint\u001b[0m\u001b[0;34m(\u001b[0m\u001b[0;34m\"The training Accuracy when over-fitting  : \"\u001b[0m\u001b[0;34m,\u001b[0m\u001b[0mACC1\u001b[0m\u001b[0;34m[\u001b[0m\u001b[0;34m-\u001b[0m\u001b[0;36m1\u001b[0m\u001b[0;34m]\u001b[0m\u001b[0;34m)\u001b[0m\u001b[0;34m\u001b[0m\u001b[0;34m\u001b[0m\u001b[0m\n\u001b[0m\u001b[1;32m      2\u001b[0m \u001b[0mprint\u001b[0m\u001b[0;34m(\u001b[0m\u001b[0;34m\"The training Accuracy when just-right    : \"\u001b[0m\u001b[0;34m,\u001b[0m\u001b[0mACC1\u001b[0m\u001b[0;34m[\u001b[0m\u001b[0;34m-\u001b[0m\u001b[0;36m1\u001b[0m\u001b[0;34m]\u001b[0m\u001b[0;34m)\u001b[0m\u001b[0;34m\u001b[0m\u001b[0;34m\u001b[0m\u001b[0m\n\u001b[1;32m      3\u001b[0m \u001b[0mprint\u001b[0m\u001b[0;34m(\u001b[0m\u001b[0;34m\"The training Accuracy when under-fitting : \"\u001b[0m\u001b[0;34m,\u001b[0m\u001b[0mACC1\u001b[0m\u001b[0;34m[\u001b[0m\u001b[0;34m-\u001b[0m\u001b[0;36m1\u001b[0m\u001b[0;34m]\u001b[0m\u001b[0;34m)\u001b[0m\u001b[0;34m\u001b[0m\u001b[0;34m\u001b[0m\u001b[0m\n",
            "\u001b[0;31mIndexError\u001b[0m: list index out of range"
          ]
        }
      ]
    },
    {
      "cell_type": "markdown",
      "metadata": {
        "id": "PSkbZk5ZcJWq",
        "colab_type": "text"
      },
      "source": [
        "### 6. The optimal classifier with varying regularization parameters superimposed on the training data\n",
        "\n"
      ]
    },
    {
      "cell_type": "markdown",
      "metadata": {
        "id": "JsaKwk-KcJU0",
        "colab_type": "text"
      },
      "source": [
        ""
      ]
    },
    {
      "cell_type": "code",
      "metadata": {
        "id": "5ITdYx_7bAbQ",
        "colab_type": "code",
        "colab": {}
      },
      "source": [
        ""
      ],
      "execution_count": 0,
      "outputs": []
    }
  ]
}