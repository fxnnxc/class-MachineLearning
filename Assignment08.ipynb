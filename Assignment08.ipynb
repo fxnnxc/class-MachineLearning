{
  "nbformat": 4,
  "nbformat_minor": 0,
  "metadata": {
    "colab": {
      "name": "Assignment08.ipynb",
      "provenance": [],
      "collapsed_sections": [],
      "mount_file_id": "1pTCJ5v5kn_9G9GIH6RdBEb5SPvQYIMoF",
      "authorship_tag": "ABX9TyPdpIzk+BEWHinQodJj6Nu+",
      "include_colab_link": true
    },
    "kernelspec": {
      "name": "python3",
      "display_name": "Python 3"
    }
  },
  "cells": [
    {
      "cell_type": "markdown",
      "metadata": {
        "id": "view-in-github",
        "colab_type": "text"
      },
      "source": [
        "<a href=\"https://colab.research.google.com/github/fxnnxc/class-MachineLearning/blob/master/Assignment08.ipynb\" target=\"_parent\"><img src=\"https://colab.research.google.com/assets/colab-badge.svg\" alt=\"Open In Colab\"/></a>"
      ]
    },
    {
      "cell_type": "markdown",
      "metadata": {
        "id": "qPgw9sSyCh9D",
        "colab_type": "text"
      },
      "source": [
        "# Assignment08 Forward Propagation in the Neural Networks\n",
        "\n"
      ]
    },
    {
      "cell_type": "markdown",
      "metadata": {
        "id": "MvkqCnBACpp_",
        "colab_type": "text"
      },
      "source": [
        "## 1. Codes"
      ]
    },
    {
      "cell_type": "markdown",
      "metadata": {
        "id": "prysts9cCsdo",
        "colab_type": "text"
      },
      "source": [
        "### 1. Input Data"
      ]
    },
    {
      "cell_type": "code",
      "metadata": {
        "id": "s32uIxqLCvN2",
        "colab_type": "code",
        "colab": {}
      },
      "source": [
        "import numpy as np\n",
        "\n",
        "file_data   = \"/content/drive/My Drive/mnist_test.csv\"\n",
        "handle_file = open(file_data, \"r\")\n",
        "data        = handle_file.readlines()\n",
        "handle_file.close()\n",
        "\n",
        "size_row    = 28    # height of the image\n",
        "size_col    = 28    # width of the image\n",
        "\n",
        "num_image   = len(data)\n",
        "count       = 0     # count for the number of images\n",
        "\n",
        "#\n",
        "# make a matrix each column of which represents an images in a vector form \n",
        "#\n",
        "list_image  = np.empty((size_row * size_col, num_image), dtype=float)\n",
        "list_label  = np.empty(num_image, dtype=int)\n",
        "\n",
        "for line in data:\n",
        "\n",
        "    line_data   = line.split(',')\n",
        "    label       = line_data[0]\n",
        "    im_vector   = np.asfarray(line_data[1:])\n",
        "\n",
        "    list_label[count]       = label\n",
        "    list_image[:, count]    = im_vector    \n",
        "\n",
        "    count += 1\n"
      ],
      "execution_count": 0,
      "outputs": []
    },
    {
      "cell_type": "markdown",
      "metadata": {
        "id": "1ZPPNedwCvZ9",
        "colab_type": "text"
      },
      "source": [
        "### 2. Average Image for Each Digit\n",
        "\n",
        "take the arithmatic average of the image data with the same label for each digit"
      ]
    },
    {
      "cell_type": "code",
      "metadata": {
        "id": "7BDP8vQ_CnCu",
        "colab_type": "code",
        "colab": {}
      },
      "source": [
        "Average_image = np.zeros((size_row* size_col, 10), dtype=float)\n",
        "Average_count = np.zeros(10, dtype=int)\n",
        "\n",
        "for i in range(num_image):\n",
        "  Average_image[:,list_label[i]] += list_image[:,i]\n",
        "  Average_count[list_label[i]] +=1\n",
        "\n",
        "for i in range(10):\n",
        "  Average_image[:,i] = Average_image[:,i]//Average_count[i]"
      ],
      "execution_count": 0,
      "outputs": []
    },
    {
      "cell_type": "markdown",
      "metadata": {
        "id": "XMpnqG5bCyU_",
        "colab_type": "text"
      },
      "source": [
        "### 3. Forward Propagation with Random Weights\n",
        "\n",
        "consider a neural network with a fully connected layer using a logistic unit\n",
        "the weights of the fully connected layer are given by random numbers sampled from the Normal distribution N(0,1)\\mathcal{N}(0, 1)N(0,1) with mean 0 and standard deviation 1\n",
        "compute the average of the output of the neural network using a logistic unit for the images of the same label for each digit"
      ]
    },
    {
      "cell_type": "code",
      "metadata": {
        "id": "kmMFmCBVlC3K",
        "colab_type": "code",
        "colab": {}
      },
      "source": [
        "mu = 0\n",
        "sigma = 1\n",
        "theta=  np.random.normal(mu, sigma, (1, 784)) # [1,784]  Normal distribution with mu=0, sigma=1\n",
        "\n",
        "def sigmoid(x):\n",
        "  return 1/(1+np.exp(-x))\n",
        "\n",
        "def forward(x):                              #  [1, 784] x [784, 10000]\n",
        "  r = np.dot(theta, x)\n",
        "  return sigmoid(r)\n"
      ],
      "execution_count": 0,
      "outputs": []
    },
    {
      "cell_type": "code",
      "metadata": {
        "id": "zzUYp1_sCy-X",
        "colab_type": "code",
        "colab": {}
      },
      "source": [
        "average_activation = np.zeros(10, dtype=float)\n",
        "list_activation = forward(test)\n",
        "\n",
        "for i in range(num_image): # Summation of all activation for each label\n",
        "  average_activation[list_label[i]] += list_activation[0,i]\n",
        "\n",
        "for i in range(10):  # Average\n",
        "  average_activation[i] /= Average_count[i]"
      ],
      "execution_count": 0,
      "outputs": []
    },
    {
      "cell_type": "markdown",
      "metadata": {
        "id": "6NzEOlFBDDu7",
        "colab_type": "text"
      },
      "source": [
        "## 2. Results"
      ]
    },
    {
      "cell_type": "markdown",
      "metadata": {
        "id": "o4cAWY18DG8v",
        "colab_type": "text"
      },
      "source": [
        "### 1. Plot the average image"
      ]
    },
    {
      "cell_type": "code",
      "metadata": {
        "id": "crpUF3veDF7L",
        "colab_type": "code",
        "outputId": "3a6f77c9-d113-4bdc-aed5-b860305c34a2",
        "colab": {
          "base_uri": "https://localhost:8080/",
          "height": 226
        }
      },
      "source": [
        "import matplotlib.pyplot as plt\n",
        "#plot the average images of the same label for each digit\n",
        "#arrange the subplots in 2x5 array for the 10 average images and present\n",
        "# the label at the title of each subplot in the increasing order of the label\n",
        "\n",
        "f1 = plt.figure(1)\n",
        "\n",
        "for i in range(10):\n",
        "\n",
        "    label       = i\n",
        "    im_vector   = Average_image[:, i]\n",
        "    im_matrix   = im_vector.reshape((size_row, size_col))\n",
        "\n",
        "    plt.subplot(2, 5, i+1)\n",
        "    plt.title(label)\n",
        "    plt.imshow(im_matrix, cmap='Greys', interpolation='None')\n",
        "\n",
        "    frame   = plt.gca()\n",
        "    frame.axes.get_xaxis().set_visible(False)\n",
        "    frame.axes.get_yaxis().set_visible(False)\n",
        "\n",
        "plt.show()"
      ],
      "execution_count": 0,
      "outputs": [
        {
          "output_type": "display_data",
          "data": {
            "image/png": "[encoded data removed]",
            "text/plain": [
              "<Figure size 432x288 with 10 Axes>"
            ]
          },
          "metadata": {
            "tags": [],
            "needs_background": "light"
          }
        }
      ]
    },
    {
      "cell_type": "markdown",
      "metadata": {
        "id": "_lyLhQGqDJ11",
        "colab_type": "text"
      },
      "source": [
        "### 2. Present the output of the neural network with random weights"
      ]
    },
    {
      "cell_type": "code",
      "metadata": {
        "id": "Bc6KpZP9DI5_",
        "colab_type": "code",
        "colab": {
          "base_uri": "https://localhost:8080/",
          "height": 372
        },
        "outputId": "69aa08ef-9578-4170-a400-f2ab51e2f543"
      },
      "source": [
        "for i in range(10):\n",
        "  print(f\"Label : {i}  output of the neural network {average_activation} \")"
      ],
      "execution_count": 34,
      "outputs": [
        {
          "output_type": "stream",
          "text": [
            "Label : 0  output of the neural network [0.27165339 0.94041493 0.5633886  0.72800009 0.70494956 0.71051665\n",
            " 0.63422382 0.74140107 0.780196   0.83668216] \n",
            "Label : 1  output of the neural network [0.27165339 0.94041493 0.5633886  0.72800009 0.70494956 0.71051665\n",
            " 0.63422382 0.74140107 0.780196   0.83668216] \n",
            "Label : 2  output of the neural network [0.27165339 0.94041493 0.5633886  0.72800009 0.70494956 0.71051665\n",
            " 0.63422382 0.74140107 0.780196   0.83668216] \n",
            "Label : 3  output of the neural network [0.27165339 0.94041493 0.5633886  0.72800009 0.70494956 0.71051665\n",
            " 0.63422382 0.74140107 0.780196   0.83668216] \n",
            "Label : 4  output of the neural network [0.27165339 0.94041493 0.5633886  0.72800009 0.70494956 0.71051665\n",
            " 0.63422382 0.74140107 0.780196   0.83668216] \n",
            "Label : 5  output of the neural network [0.27165339 0.94041493 0.5633886  0.72800009 0.70494956 0.71051665\n",
            " 0.63422382 0.74140107 0.780196   0.83668216] \n",
            "Label : 6  output of the neural network [0.27165339 0.94041493 0.5633886  0.72800009 0.70494956 0.71051665\n",
            " 0.63422382 0.74140107 0.780196   0.83668216] \n",
            "Label : 7  output of the neural network [0.27165339 0.94041493 0.5633886  0.72800009 0.70494956 0.71051665\n",
            " 0.63422382 0.74140107 0.780196   0.83668216] \n",
            "Label : 8  output of the neural network [0.27165339 0.94041493 0.5633886  0.72800009 0.70494956 0.71051665\n",
            " 0.63422382 0.74140107 0.780196   0.83668216] \n",
            "Label : 9  output of the neural network [0.27165339 0.94041493 0.5633886  0.72800009 0.70494956 0.71051665\n",
            " 0.63422382 0.74140107 0.780196   0.83668216] \n"
          ],
          "name": "stdout"
        }
      ]
    }
  ]
}