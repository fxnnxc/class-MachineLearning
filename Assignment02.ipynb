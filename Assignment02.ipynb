{
  "nbformat": 4,
  "nbformat_minor": 0,
  "metadata": {
    "colab": {
      "name": "Assignment02.ipynb",
      "provenance": [],
      "collapsed_sections": [],
      "toc_visible": true
    },
    "kernelspec": {
      "name": "python3",
      "display_name": "Python 3"
    }
  },
  "cells": [
    {
      "cell_type": "markdown",
      "metadata": {
        "id": "UF88ipsKKvzc",
        "colab_type": "text"
      },
      "source": [
        "# Assignment02 \n",
        "\n",
        "* 20165396 박범진"
      ]
    },
    {
      "cell_type": "markdown",
      "metadata": {
        "id": "FwTLqXOBK2Vc",
        "colab_type": "text"
      },
      "source": [
        "## 1. Input data\n",
        "\n",
        "Generate a set of $m$ point pairs from random pertubations using random function based on a line function that you define. \n",
        "\n",
        "\n",
        "Let $a = 3, b = 2, m =20, sigma = 1 $\n",
        "\n",
        "\n"
      ]
    },
    {
      "cell_type": "code",
      "metadata": {
        "id": "8S5h9_oAKWtW",
        "colab_type": "code",
        "colab": {}
      },
      "source": [
        "import random \n",
        "# Set Seed to 0. \n",
        "random.seed(0)\n",
        "\n",
        "# Choice of a, b, m, sigma\n",
        "a, b, m, sigma = 3, 2 , 20, 1\n",
        "\n",
        "# X, Y hat, Y\n",
        "X = [random.random()*5 for _ in range(m)]\n",
        "Y_hat = [a*x + b for x in X]\n",
        "Y = [y + random.gauss(0,2) for y in Y_hat] "
      ],
      "execution_count": 0,
      "outputs": []
    },
    {
      "cell_type": "code",
      "metadata": {
        "id": "TrwBtoU6MNnf",
        "colab_type": "code",
        "outputId": "b6dd74aa-cb41-402d-ed87-983ab3b85479",
        "colab": {
          "base_uri": "https://localhost:8080/",
          "height": 298
        }
      },
      "source": [
        "# Plot the input data\n",
        "import matplotlib.pyplot as plt\n",
        "\n",
        "plt.scatter(X, Y_hat)\n",
        "plt.scatter(X, Y, c='black')\n",
        "plt.title('Plotting the input data')\n",
        "plt.legend([' a linear function','random perturbations'])"
      ],
      "execution_count": 2,
      "outputs": [
        {
          "output_type": "execute_result",
          "data": {
            "text/plain": [
              "<matplotlib.legend.Legend at 0x7f797da74e80>"
            ]
          },
          "metadata": {
            "tags": []
          },
          "execution_count": 2
        },
        {
          "output_type": "display_data",
          "data": {
            "image/png": "[encoded data removed]",
            "text/plain": [
              "<Figure size 432x288 with 1 Axes>"
            ]
          },
          "metadata": {
            "tags": []
          }
        }
      ]
    },
    {
      "cell_type": "markdown",
      "metadata": {
        "id": "UNEd87YbRX86",
        "colab_type": "text"
      },
      "source": [
        "## 2. Plotting the output results"
      ]
    },
    {
      "cell_type": "code",
      "metadata": {
        "id": "HwWz_35ETcnm",
        "colab_type": "code",
        "colab": {}
      },
      "source": [
        "# Model : y = theta0 + theta1 * x\n",
        "theta0, theta1 = random.random(), random.random()\n",
        "lr = 0.01\n",
        "\n",
        "def func(x):\n",
        "  y = theta0 + theta1*x\n",
        "  return y\n",
        "\n",
        "J = m * sum([(func(X[i]) - Y[i])**2 for i in range(m)])/2     #Initial Loss\n",
        "\n",
        "# Store the values for plotting\n",
        "THETA0 =[theta0]\n",
        "THETA1 =[theta1]\n",
        "LOSS = [J]\n",
        "\n",
        "\n",
        "# Linear Regression\n",
        "while True:\n",
        "  temp = (theta0, theta1)\n",
        "  theta0 = theta0 - lr *  sum([func(X[i]) - Y[i] for i in range(m)]) /m\n",
        "  theta1 = theta1 - lr * sum([(func(X[i]) - Y[i])*X[i] for i in range(m)])/m\n",
        "  J = m * sum([(func(X[i]) - Y[i])**2 for i in range(m)])/2\n",
        "  THETA0.append(theta0)\n",
        "  THETA1.append(theta1)\n",
        "  LOSS.append(J)\n",
        "  if (theta0-temp[0])<0.0001 and (theta1-temp[1])<0.0001:   # Convergence when the thetas don't change. \n",
        "    break  "
      ],
      "execution_count": 0,
      "outputs": []
    },
    {
      "cell_type": "code",
      "metadata": {
        "id": "I6LH6wbGUU1y",
        "colab_type": "code",
        "outputId": "6d6f9089-66bc-4412-cd5c-7f1c2895ac68",
        "colab": {
          "base_uri": "https://localhost:8080/",
          "height": 282
        }
      },
      "source": [
        "H = [func(x) for x in X]\n",
        "plt.scatter(X, Y, color='black')\n",
        "plt.scatter(X, H, color='r')\n",
        "plt.title('Plotting the output data')\n",
        "plt.legend(['random perturbations', 'linear regression'])"
      ],
      "execution_count": 4,
      "outputs": [
        {
          "output_type": "execute_result",
          "data": {
            "text/plain": [
              "<matplotlib.legend.Legend at 0x7f797ad98f60>"
            ]
          },
          "metadata": {
            "tags": []
          },
          "execution_count": 4
        },
        {
          "output_type": "display_data",
          "data": {
            "image/png": "[encoded data removed]",
            "text/plain": [
              "<Figure size 432x288 with 1 Axes>"
            ]
          },
          "metadata": {
            "tags": []
          }
        }
      ]
    },
    {
      "cell_type": "markdown",
      "metadata": {
        "id": "jcK7rcUgdoaJ",
        "colab_type": "text"
      },
      "source": [
        "## 3. Plotting the energy values\n",
        "\n",
        "Convergence Condition\n",
        "* Theta0의 변화량이 0.0001 이하\n",
        "* Theta1의 변화량이 0.0001 이하 "
      ]
    },
    {
      "cell_type": "code",
      "metadata": {
        "id": "ziS7pKugX-cF",
        "colab_type": "code",
        "colab": {
          "base_uri": "https://localhost:8080/",
          "height": 298
        },
        "outputId": "bbfe7cf5-7aed-4e15-d915-10594c8bf842"
      },
      "source": [
        "plt.plot(LOSS, color='blue')\n",
        "plt.xlim(0,100)\n",
        "plt.legend(['the value of the objective function'])\n",
        "plt.title('The energy values')"
      ],
      "execution_count": 6,
      "outputs": [
        {
          "output_type": "execute_result",
          "data": {
            "text/plain": [
              "Text(0.5, 1.0, 'The energy values')"
            ]
          },
          "metadata": {
            "tags": []
          },
          "execution_count": 6
        },
        {
          "output_type": "display_data",
          "data": {
            "image/png": "[encoded data removed]",
            "text/plain": [
              "<Figure size 432x288 with 1 Axes>"
            ]
          },
          "metadata": {
            "tags": []
          }
        }
      ]
    },
    {
      "cell_type": "markdown",
      "metadata": {
        "id": "lj9PSYdOedAu",
        "colab_type": "text"
      },
      "source": [
        "## 4. Plotting the model parameters\n"
      ]
    },
    {
      "cell_type": "code",
      "metadata": {
        "id": "chIQ6ujLd0Gr",
        "colab_type": "code",
        "colab": {
          "base_uri": "https://localhost:8080/",
          "height": 298
        },
        "outputId": "f54bd353-144c-426b-eeb8-1015fe17df5e"
      },
      "source": [
        "plt.plot(THETA0, color='red')\n",
        "plt.plot(THETA1, color='blue')\n",
        "plt.legend(['theta0', 'theta1'])\n",
        "plt.title('Model parameters')"
      ],
      "execution_count": 12,
      "outputs": [
        {
          "output_type": "execute_result",
          "data": {
            "text/plain": [
              "Text(0.5, 1.0, 'Model parameters')"
            ]
          },
          "metadata": {
            "tags": []
          },
          "execution_count": 12
        },
        {
          "output_type": "display_data",
          "data": {
            "image/png": "[encoded data removed]",
            "text/plain": [
              "<Figure size 432x288 with 1 Axes>"
            ]
          },
          "metadata": {
            "tags": []
          }
        }
      ]
    },
    {
      "cell_type": "markdown",
      "metadata": {
        "id": "5biIfCbVgFdr",
        "colab_type": "text"
      },
      "source": [
        "## 5. Conclusion\n",
        "\n",
        "\n",
        "Since theta0 is close to 3.5 and theta1 is close to 2.5, \n",
        "\n",
        "You can say that $h_\\theta(x) = \\theta_0 + \\theta_1 x \\approx 3.5 + 2.5x$\n",
        "\n",
        "The final loss is $900$. It is high because we fitted the perturbed points to a linear model. "
      ]
    }
  ]
}