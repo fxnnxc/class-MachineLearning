{
  "nbformat": 4,
  "nbformat_minor": 0,
  "metadata": {
    "colab": {
      "name": "Assignment02.ipynb",
      "provenance": [],
      "collapsed_sections": [],
      "toc_visible": true
    },
    "kernelspec": {
      "name": "python3",
      "display_name": "Python 3"
    }
  },
  "cells": [
    {
      "cell_type": "markdown",
      "metadata": {
        "id": "UF88ipsKKvzc",
        "colab_type": "text"
      },
      "source": [
        "# Assignment02 \n",
        "\n",
        "* 20165396 박범진"
      ]
    },
    {
      "cell_type": "markdown",
      "metadata": {
        "id": "FwTLqXOBK2Vc",
        "colab_type": "text"
      },
      "source": [
        "## 1. Input data\n",
        "\n",
        "Generate a set of $m$ point pairs from random pertubations using random function based on a line function that you define. \n",
        "\n",
        "\n",
        "Let $a = 3, b = 2, m =20, sigma = 1 $\n",
        "\n"
      ]
    },
    {
      "cell_type": "code",
      "metadata": {
        "id": "8S5h9_oAKWtW",
        "colab_type": "code",
        "colab": {}
      },
      "source": [
        "import random \n",
        "# Set Seed to 0. \n",
        "random.seed(0)\n",
        "\n",
        "# Choice of a, b, m, sigma\n",
        "a, b, m, sigma = 3, 2 , 20, 1\n",
        "\n",
        "# X, Y hat, Y\n",
        "X = [random.random()*5 for _ in range(m)]\n",
        "Y_hat = [a*x + b for x in X]\n",
        "Y = [y + random.gauss(0,2) for y in Y_hat] "
      ],
      "execution_count": 0,
      "outputs": []
    },
    {
      "cell_type": "code",
      "metadata": {
        "id": "TrwBtoU6MNnf",
        "colab_type": "code",
        "colab": {
          "base_uri": "https://localhost:8080/",
          "height": 298
        },
        "outputId": "59774fa4-2c92-4f0a-db22-ffeda65b3257"
      },
      "source": [
        "# Plot the input data\n",
        "import matplotlib.pyplot as plt\n",
        "\n",
        "plt.scatter(X, Y_hat)\n",
        "plt.scatter(X, Y, c='black')\n",
        "plt.title('Plotting the input data')\n",
        "plt.legend([' a linear function','random perturbations'])"
      ],
      "execution_count": 61,
      "outputs": [
        {
          "output_type": "execute_result",
          "data": {
            "text/plain": [
              "<matplotlib.legend.Legend at 0x7f4219607b38>"
            ]
          },
          "metadata": {
            "tags": []
          },
          "execution_count": 61
        },
        {
          "output_type": "display_data",
          "data": {
            "image/png": "[encoded data removed]",
            "text/plain": [
              "<Figure size 432x288 with 1 Axes>"
            ]
          },
          "metadata": {
            "tags": []
          }
        }
      ]
    },
    {
      "cell_type": "markdown",
      "metadata": {
        "id": "UNEd87YbRX86",
        "colab_type": "text"
      },
      "source": [
        ""
      ]
    }
  ]
}