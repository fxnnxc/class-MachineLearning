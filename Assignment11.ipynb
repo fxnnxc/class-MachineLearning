{
  "nbformat": 4,
  "nbformat_minor": 0,
  "metadata": {
    "colab": {
      "name": "Assignment11.ipynb",
      "provenance": [],
      "collapsed_sections": [],
      "mount_file_id": "1NBWUfRKjr7NCzLqZVPnulG5pBcCdMxjU",
      "authorship_tag": "ABX9TyN6ICQE+/nperyzaO0BGpoZ",
      "include_colab_link": true
    },
    "kernelspec": {
      "name": "python3",
      "display_name": "Python 3"
    },
    "accelerator": "GPU"
  },
  "cells": [
    {
      "cell_type": "markdown",
      "metadata": {
        "id": "view-in-github",
        "colab_type": "text"
      },
      "source": [
        "<a href=\"https://colab.research.google.com/github/fxnnxc/class-MachineLearning/blob/master/Assignment11.ipynb\" target=\"_parent\"><img src=\"https://colab.research.google.com/assets/colab-badge.svg\" alt=\"Open In Colab\"/></a>"
      ]
    },
    {
      "cell_type": "markdown",
      "metadata": {
        "id": "ElwyOXFOeaVE",
        "colab_type": "text"
      },
      "source": [
        "# Text classification using neural networks"
      ]
    },
    {
      "cell_type": "code",
      "metadata": {
        "id": "GokYqVhqWxqm",
        "colab_type": "code",
        "outputId": "0ae14d5e-82c2-4bbc-e758-35cd532a90cc",
        "colab": {
          "base_uri": "https://localhost:8080/",
          "height": 89
        }
      },
      "source": [
        "import numpy as np\n",
        "import re\n",
        "import nltk\n",
        "from sklearn.datasets import load_files\n",
        "nltk.download('stopwords')\n",
        "nltk.download('wordnet')\n",
        "import pickle\n",
        "from nltk.corpus import stopwords\n",
        "from nltk.stem import WordNetLemmatizer\n",
        "from sklearn.feature_extraction.text import CountVectorizer\n",
        "from sklearn.feature_extraction.text import TfidfTransformer\n",
        "from sklearn.model_selection import train_test_split\n",
        "\n",
        "\n",
        "review_data = load_files(r\"/content/drive/My Drive/Colab Notebooks/movie_review\")\n",
        "X, y = review_data.data, review_data.target\n",
        "\n",
        "documents = []\n",
        "\n",
        "stemmer = WordNetLemmatizer()\n",
        "\n",
        "for sen in range(0, len(X)):\n",
        "    # Remove all the special characters\n",
        "    document = re.sub(r'\\W', ' ', str(X[sen]))\n",
        "    \n",
        "    # remove all single characters\n",
        "    document = re.sub(r'\\s+[a-zA-Z]\\s+', ' ', document)\n",
        "    \n",
        "    # Remove single characters from the start\n",
        "    document = re.sub(r'\\^[a-zA-Z]\\s+', ' ', document) \n",
        "    \n",
        "    # Substituting multiple spaces with single space\n",
        "    document = re.sub(r'\\s+', ' ', document, flags=re.I)\n",
        "    \n",
        "    # Removing prefixed 'b'\n",
        "    document = re.sub(r'^b\\s+', '', document)\n",
        "    \n",
        "    # Converting to Lowercase\n",
        "    document = document.lower()\n",
        "    \n",
        "    # Lemmatization\n",
        "    document = document.split()\n",
        "    document = [stemmer.lemmatize(word) for word in document]\n",
        "    document = ' '.join(document)\n",
        "    \n",
        "    documents.append(document)\n",
        "\n",
        "num_features = 10000\n",
        "\n",
        "#vectorizer = CountVectorizer(max_features=num_features, min_df=5, max_df=0.7, stop_words=stopwords.words('english'))\n",
        "#X = vectorizer.fit_transform(documents).toarray()\n",
        "#tfidfconverter = TfidfTransformer()\n",
        "#X = tfidfconverter.fit_transform(X).toarray()\n"
      ],
      "execution_count": 1,
      "outputs": [
        {
          "output_type": "stream",
          "text": [
            "[nltk_data] Downloading package stopwords to /root/nltk_data...\n",
            "[nltk_data]   Package stopwords is already up-to-date!\n",
            "[nltk_data] Downloading package wordnet to /root/nltk_data...\n",
            "[nltk_data]   Package wordnet is already up-to-date!\n"
          ],
          "name": "stdout"
        }
      ]
    },
    {
      "cell_type": "code",
      "metadata": {
        "id": "xrNtFBQ0U8JR",
        "colab_type": "code",
        "outputId": "924de871-ce9f-43df-9d64-35197d701abf",
        "colab": {
          "base_uri": "https://localhost:8080/",
          "height": 53
        }
      },
      "source": [
        "word_dict = {}\n",
        "\n",
        "number = 0 \n",
        "for d in documents:\n",
        "  sent = d.split(' ')\n",
        "  for w in sent:\n",
        "      if w in word_dict:\n",
        "        word_dict[w][1] +=1\n",
        "      else:\n",
        "        word_dict[w] = [number, 1]\n",
        "        number+=1\n",
        "\n",
        "# Number of Sentences S\n",
        "# Number of Classes N\n",
        "\n",
        "# Assumes there are more than 100 sentencces\n",
        "S = len(documents)\n",
        "low  = 0.005*S\n",
        "high = 1.0*S\n",
        "\n",
        "word_dict2 = {}\n",
        "number = 0\n",
        "for w in word_dict:\n",
        "  if low < word_dict[w][1] < high:\n",
        "    word_dict2[w] = word_dict[w]\n",
        "    word_dict2[w][0] = number\n",
        "    number+=1\n",
        "\n",
        "print(len(word_dict))\n",
        "print(len(word_dict2))\n"
      ],
      "execution_count": 2,
      "outputs": [
        {
          "output_type": "stream",
          "text": [
            "40125\n",
            "8260\n"
          ],
          "name": "stdout"
        }
      ]
    },
    {
      "cell_type": "code",
      "metadata": {
        "id": "KM2M4o4yVUuV",
        "colab_type": "code",
        "outputId": "7d38dc3a-9d19-4336-91fa-63a67f33fde5",
        "colab": {
          "base_uri": "https://localhost:8080/",
          "height": 53
        }
      },
      "source": [
        "import numpy as np\n",
        "from sklearn.preprocessing import MinMaxScaler\n",
        "\n",
        "positive =[] #긍정 레이블에 많이 포함된 단어 목록. \n",
        "negative =[] #부정 레이블에 많이 포함된 단어 목록.\n",
        "\n",
        "X = np.zeros((len(documents), len(word_dict2)))\n",
        "# Make X\n",
        "for i, d in enumerate(documents):\n",
        "  sent = d.split(' ')\n",
        "  for w in sent:\n",
        "      try:\n",
        "        index  = word_dict2[w][0]\n",
        "        X[i, index] +=1   \n",
        "      except:\n",
        "        pass\n",
        "\n",
        "A = np.concatenate((X, np.ones((X.shape[0],1))), axis=1) # OLS\n",
        "m = np.linalg.lstsq(A, y, rcond=None)\n",
        "#A = np.concatenate((X[-600:], np.ones((600,1))), axis=1) # OLS\n",
        "#m = np.linalg.lstsq(A, y[-600:], rcond=None)\n",
        "\n",
        "for i in range(len(m[0])-2):\n",
        "  if m[0][i] > 0.03:\n",
        "    positive.append(list(word_dict2.keys())[i])\n",
        "  if m[0][i] < -0.03:\n",
        "    negative.append(list(word_dict2.keys())[i])\n",
        "\n",
        "# give more weights for X data \n",
        "for i, d in enumerate(documents):\n",
        "  sent = d.split(' ')\n",
        "  for w in sent:\n",
        "      try:\n",
        "        index  = word_dict2[w][0]\n",
        "        if w in positive or w in negative:\n",
        "          X[i, index] += 2\n",
        "      except:\n",
        "        pass\n",
        "\n",
        "# Normalize\n",
        "scaler = MinMaxScaler()\n",
        "scaler.fit(X)\n",
        "X = scaler.transform(X)\n",
        "print(f\"X:{X.shape}\")\n",
        "print(f\"y:{y.shape}\")\n",
        "\n"
      ],
      "execution_count": 3,
      "outputs": [
        {
          "output_type": "stream",
          "text": [
            "X:(2000, 8260)\n",
            "y:(2000,)\n"
          ],
          "name": "stdout"
        }
      ]
    },
    {
      "cell_type": "code",
      "metadata": {
        "id": "Ei9SOp_sKS3q",
        "colab_type": "code",
        "outputId": "9b5198ef-7b7b-410c-ebea-8cb755a23375",
        "colab": {
          "base_uri": "https://localhost:8080/",
          "height": 35
        }
      },
      "source": [
        "print(len(positive))\n"
      ],
      "execution_count": 4,
      "outputs": [
        {
          "output_type": "stream",
          "text": [
            "221\n"
          ],
          "name": "stdout"
        }
      ]
    },
    {
      "cell_type": "code",
      "metadata": {
        "id": "3OA9xyj4oYrb",
        "colab_type": "code",
        "colab": {}
      },
      "source": [
        "# Install CuPy\n",
        "#!curl https://colab.chainer.org/install | CHAINER_VERSION=\"==5.1.0\" CUPY_VERSION=\"==5.1.0\" sh -\n",
        "#!apt -y install libcusparse8.0 libnvrtc8.0 libnvtoolsext1\n",
        "#!ln -snf /usr/lib/x86_64-linux-gnu/libnvrtc-builtins.so.8.0 /usr/lib/x86_64-linux-gnu/libnvrtc-builtins.so\n",
        "#!pip install cupy-cuda80\n",
        "#!pip install cupy\n",
        "import cupy as cp"
      ],
      "execution_count": 0,
      "outputs": []
    },
    {
      "cell_type": "code",
      "metadata": {
        "id": "TK170omGypMg",
        "colab_type": "code",
        "colab": {}
      },
      "source": [
        "def one_hot(y):\n",
        "  oneHotY = np.zeros((2, y.shape[0]))\n",
        "  for i in range(y.shape[0]):\n",
        "    index = int(y[i])\n",
        "    oneHotY[index][i] = 1\n",
        "  return oneHotY\n",
        "\n",
        "X_train, X_test, y_train, y_test = train_test_split(X, y, test_size=0.3, shuffle=False)\n",
        "\n",
        "y_train_index = y_train\n",
        "y_test_index = y_test\n",
        "\n",
        "y_train = one_hot(y_train)\n",
        "y_test  = one_hot(y_test)\n",
        "\n",
        "X_train = cp.asarray(X_train).T\n",
        "X_test  = cp.asarray(X_test).T\n",
        "y_train = cp.asarray(y_train)\n",
        "y_test  = cp.asarray(y_test)\n",
        "y_train_index = cp.asarray(y_train_index)\n",
        "y_test_index  = cp.asarray(y_test_index)"
      ],
      "execution_count": 0,
      "outputs": []
    },
    {
      "cell_type": "code",
      "metadata": {
        "id": "sq9AhU2yn1SW",
        "colab_type": "code",
        "colab": {}
      },
      "source": [
        "# Utilities [ LOSS, ACCURACY ]\n",
        "def loss_acc(X, y, y_index):\n",
        "  H = forward(X)\n",
        "  v = cp.sum(-cp.multiply(y, cp.log(H)) - cp.multiply(1-y, cp.log(1-H))) + lamb * cp.mean(cp.multiply(outlay,outlay))/2\n",
        "  \n",
        "  w = cp.argmax(H, axis=0)\n",
        "  w = cp.sum(cp.equal(w, y_index))\n",
        "  return (v, w/H.shape[1]*100)"
      ],
      "execution_count": 0,
      "outputs": []
    },
    {
      "cell_type": "code",
      "metadata": {
        "id": "1SiTFHEXoURW",
        "colab_type": "code",
        "colab": {}
      },
      "source": [
        "\n",
        "# Shapes\n",
        "input_size  = X.shape[1]\n",
        "layer1_size = num_features//2\n",
        "layer2_size = num_features//4\n",
        "output_size = 2\n",
        "\n",
        "# Weights\n",
        "layer1 = cp.random.normal(0, 0.3, (layer1_size, input_size))   \n",
        "layer2 = cp.random.normal(0, 0.3, (layer2_size, layer1_size))  \n",
        "outlay = cp.random.normal(0, 0.3, (output_size, layer2_size)) \n",
        "\n",
        "# Bias\n",
        "bias1 = cp.zeros((layer1_size, 1))\n",
        "bias2 = cp.zeros((layer2_size, 1))\n",
        "bias_ = cp.zeros((output_size, 1))\n",
        "\n",
        "# stores\n",
        "loss_train = []\n",
        "loss_test  = []\n",
        "acc_train  = []\n",
        "acc_test   = []\n",
        "\n",
        "# learing rate\n",
        "lr =  0.01\n",
        "lamb = 3e-5\n",
        "train_size = X_train.shape[1]"
      ],
      "execution_count": 0,
      "outputs": []
    },
    {
      "cell_type": "code",
      "metadata": {
        "id": "6X3aywXlVQ4I",
        "colab_type": "code",
        "colab": {
          "base_uri": "https://localhost:8080/",
          "height": 53
        },
        "outputId": "3b55a5d4-2cb3-45ec-9181-e22a4bc033d8"
      },
      "source": [
        "print(layer1_size)\n",
        "print(layer2_size)"
      ],
      "execution_count": 22,
      "outputs": [
        {
          "output_type": "stream",
          "text": [
            "5000\n",
            "2500\n"
          ],
          "name": "stdout"
        }
      ]
    },
    {
      "cell_type": "code",
      "metadata": {
        "id": "jYLQWRLncZ6-",
        "colab_type": "code",
        "colab": {}
      },
      "source": [
        "# Functions\n",
        "\n",
        "class classifier():\n",
        "    def __init__(self):\n",
        "        self.x = 1\n"
      ],
      "execution_count": 0,
      "outputs": []
    },
    {
      "cell_type": "code",
      "metadata": {
        "id": "BKrCiPSRoUru",
        "colab_type": "code",
        "colab": {}
      },
      "source": [
        "# Functions\n",
        "\n",
        "def sigmoid(x):  \n",
        "  return 1/(1+cp.exp(-x))\n",
        "\n",
        "def forward(x):  # To predict right, worng answer and to calculate loss and accuracy\n",
        "    global outlay, layer1, layer2, bias1, bias2, bias_\n",
        "    # Layer 1\n",
        "    output = layer1.dot(x) + bias1\n",
        "    output = sigmoid(output)\n",
        "\n",
        "    # Layer 2 \n",
        "    output = layer2.dot(output) + bias2\n",
        "    output = sigmoid(output)  \n",
        "\n",
        "    # Output layer\n",
        "    output = outlay.dot(output) + bias_\n",
        "    output = sigmoid(output)\n",
        "\n",
        "    return output\n",
        "\n",
        "def train(x, y):\n",
        "    global outlay, layer1, layer2,  lr, bias1, bias2, bias_\n",
        "\n",
        "    # Forward -----------------------------------------------------------------\n",
        "    # Layer 1\n",
        "    input1 = x\n",
        "\n",
        "    output = cp.dot(layer1, x) + bias1\n",
        "    linval1 = output\n",
        "    output = sigmoid(output)\n",
        "    sigval1 = output\n",
        "\n",
        "    # Layer 2    \n",
        "    input2 = output\n",
        "    output = cp.dot(layer2, output) + bias2\n",
        "    linval2 = output\n",
        "    output = sigmoid(output)\n",
        "    sigval2 = output\n",
        "\n",
        "    # Layer 3  \n",
        "\n",
        "    # Output layer\n",
        "    input_ = output\n",
        "    output = cp.dot(outlay, output) + bias_\n",
        "    output = sigmoid(output)\n",
        "\n",
        "    # Backward ----------------------------------------------------------------\n",
        "    temp_ = output-y                                                       # 역전파값\n",
        "    dw = cp.dot(temp_, input_.T)/train_size\n",
        "    db = cp.sum(temp_, axis=1, keepdims=True)/train_size\n",
        "\n",
        "    outlay -= lr*dw\n",
        "    outlay -= lr*lamb*outlay\n",
        "    bias_  -= lr*db\n",
        "\n",
        "    # layer2\n",
        "    temp2 = cp.dot(dw.T, temp_)*cp.multiply(sigval2 ,(1-sigval2))           # 역전파값  \n",
        "    db = cp.sum(temp2, axis=1, keepdims=True)/train_size                   # bias\n",
        "    dw = np.dot(temp2, input2.T)/train_size                                # weight\n",
        "\n",
        "    layer2 -= lr*dw\n",
        "    layer2 -= lr*lamb*layer2\n",
        "    bias2  -= lr*db\n",
        "\n",
        "    # layer1\n",
        "    temp1 = cp.dot(dw.T,temp2) * cp.multiply(sigval1 ,(1-sigval1))         # 역전파  \n",
        "    db = cp.sum(temp1, axis=1, keepdims=True)/train_size                   # bias\n",
        "    dw = np.dot(temp1, input1.T)/train_size                                # weight\n",
        "\n",
        "    layer1 -= lr*dw\n",
        "    layer1 -= lr*lamb*layer1\n",
        "    bias1  -= lr*db\n",
        "\n",
        "    return \n",
        "\n",
        "train(X_train, y_train)"
      ],
      "execution_count": 0,
      "outputs": []
    },
    {
      "cell_type": "code",
      "metadata": {
        "id": "2dLUu8VbopE_",
        "colab_type": "code",
        "colab": {}
      },
      "source": [
        "# Training\n",
        "\n",
        "COUNT = 100\n",
        "\n",
        "for k in range(0, COUNT+1):\n",
        "\n",
        "  train(X_train, y_train)\n",
        "  a,b = loss_acc(X_train, y_train, y_train_index)\n",
        "  c,d = loss_acc(X_test, y_test, y_test_index)\n",
        "  loss_train.append(a)\n",
        "  loss_test.append(c)\n",
        "  acc_train.append(b)\n",
        "  acc_test.append(d)"
      ],
      "execution_count": 0,
      "outputs": []
    },
    {
      "cell_type": "markdown",
      "metadata": {
        "id": "wn5o0SrNpRre",
        "colab_type": "text"
      },
      "source": [
        "\n",
        "# Result\n",
        "\n",
        "\n",
        "\n",
        "## Plot the loss curve\n",
        "\n",
        "The training loss at every iteration of gradient descent"
      ]
    },
    {
      "cell_type": "code",
      "metadata": {
        "id": "esWg_67IpR5R",
        "colab_type": "code",
        "outputId": "81e2d5b0-38f7-49e8-c6ba-b36eefaacc1d",
        "colab": {
          "base_uri": "https://localhost:8080/",
          "height": 408
        }
      },
      "source": [
        "import matplotlib.pyplot as plt\n",
        "\n",
        "plt.figure(figsize=(6,6))\n",
        "plt.plot(loss_train, color='b')\n",
        "plt.plot(loss_test,  color='r')\n",
        "plt.legend(['train', 'test'])\n",
        "plt.title('Loss Curve')"
      ],
      "execution_count": 26,
      "outputs": [
        {
          "output_type": "execute_result",
          "data": {
            "text/plain": [
              "Text(0.5, 1.0, 'Loss Curve')"
            ]
          },
          "metadata": {
            "tags": []
          },
          "execution_count": 26
        },
        {
          "output_type": "display_data",
          "data": {
            "image/png": "[encoded data removed]",
            "text/plain": [
              "<Figure size 432x432 with 1 Axes>"
            ]
          },
          "metadata": {
            "tags": [],
            "needs_background": "light"
          }
        }
      ]
    },
    {
      "cell_type": "markdown",
      "metadata": {
        "id": "yiUPZo1CpaFZ",
        "colab_type": "text"
      },
      "source": [
        "## Plot the accuracy curve\n",
        "\n",
        "The training accuracy (%) at every iteration of gradient descent"
      ]
    },
    {
      "cell_type": "code",
      "metadata": {
        "id": "0xYPF__ZpaOG",
        "colab_type": "code",
        "outputId": "f8429264-4c10-4ee9-9d0d-c3f935c1df34",
        "colab": {
          "base_uri": "https://localhost:8080/",
          "height": 354
        }
      },
      "source": [
        "plt.figure(figsize=(5,5))\n",
        "plt.plot(acc_train, color='b')\n",
        "plt.plot(acc_test , color='r')\n",
        "plt.legend(['train', 'test'])\n",
        "plt.title('Accuracy Curve')"
      ],
      "execution_count": 27,
      "outputs": [
        {
          "output_type": "execute_result",
          "data": {
            "text/plain": [
              "Text(0.5, 1.0, 'Accuracy Curve')"
            ]
          },
          "metadata": {
            "tags": []
          },
          "execution_count": 27
        },
        {
          "output_type": "display_data",
          "data": {
            "image/png": "[encoded data removed]",
            "text/plain": [
              "<Figure size 360x360 with 1 Axes>"
            ]
          },
          "metadata": {
            "tags": [],
            "needs_background": "light"
          }
        }
      ]
    },
    {
      "cell_type": "markdown",
      "metadata": {
        "id": "_-_GXHcXpaVt",
        "colab_type": "text"
      },
      "source": [
        "## Plot the quantitative results"
      ]
    },
    {
      "cell_type": "code",
      "metadata": {
        "id": "V9te1YeJP2U3",
        "colab_type": "code",
        "colab": {
          "base_uri": "https://localhost:8080/",
          "height": 136
        },
        "outputId": "955acc08-beb5-41a4-e00e-80bdb6bdf727"
      },
      "source": [
        "from sklearn.metrics import classification_report, confusion_matrix, accuracy_score\n",
        "\n",
        "print(confusion_matrix(y_train,y_pred_train))\n",
        "print(classification_report(y_train,y_pred_train))\n",
        "print(accuracy_score(y_train, y_pred_train))\n",
        "\n",
        "print(confusion_matrix(y_test,y_pred_test))\n",
        "print(classification_report(y_test,y_pred_test))\n",
        "print(accuracy_score(y_test, y_pred_test)\n"
      ],
      "execution_count": 20,
      "outputs": [
        {
          "output_type": "error",
          "ename": "SyntaxError",
          "evalue": "ignored",
          "traceback": [
            "\u001b[0;36m  File \u001b[0;32m\"<ipython-input-20-ed9caac2ec77>\"\u001b[0;36m, line \u001b[0;32m9\u001b[0m\n\u001b[0;31m    print(accuracy_score(y_test, y_pred_test)\u001b[0m\n\u001b[0m                                             ^\u001b[0m\n\u001b[0;31mSyntaxError\u001b[0m\u001b[0;31m:\u001b[0m unexpected EOF while parsing\n"
          ]
        }
      ]
    },
    {
      "cell_type": "code",
      "metadata": {
        "id": "az_v2yp_YcXL",
        "colab_type": "code",
        "colab": {}
      },
      "source": [
        ""
      ],
      "execution_count": 0,
      "outputs": []
    }
  ]
}