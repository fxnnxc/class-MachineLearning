{
  "nbformat": 4,
  "nbformat_minor": 0,
  "metadata": {
    "colab": {
      "name": "Assignment11.ipynb",
      "provenance": [],
      "collapsed_sections": [],
      "mount_file_id": "1NBWUfRKjr7NCzLqZVPnulG5pBcCdMxjU",
      "authorship_tag": "ABX9TyNCDdJaO1KNoBxpEDr120R6",
      "include_colab_link": true
    },
    "kernelspec": {
      "name": "python3",
      "display_name": "Python 3"
    },
    "accelerator": "GPU"
  },
  "cells": [
    {
      "cell_type": "markdown",
      "metadata": {
        "id": "view-in-github",
        "colab_type": "text"
      },
      "source": [
        "<a href=\"https://colab.research.google.com/github/fxnnxc/class-MachineLearning/blob/master/Assignment11.ipynb\" target=\"_parent\"><img src=\"https://colab.research.google.com/assets/colab-badge.svg\" alt=\"Open In Colab\"/></a>"
      ]
    },
    {
      "cell_type": "markdown",
      "metadata": {
        "id": "ElwyOXFOeaVE",
        "colab_type": "text"
      },
      "source": [
        "# Text classification using neural networks"
      ]
    },
    {
      "cell_type": "code",
      "metadata": {
        "id": "GokYqVhqWxqm",
        "colab_type": "code",
        "colab": {
          "base_uri": "https://localhost:8080/",
          "height": 90
        },
        "outputId": "a278e4dd-f067-4c2a-8450-6216e38438e8"
      },
      "source": [
        "import numpy as np\n",
        "import re\n",
        "import nltk\n",
        "from sklearn.datasets import load_files\n",
        "nltk.download('stopwords')\n",
        "nltk.download('wordnet')\n",
        "import pickle\n",
        "from nltk.corpus import stopwords\n",
        "from nltk.stem import WordNetLemmatizer\n",
        "from sklearn.feature_extraction.text import CountVectorizer\n",
        "from sklearn.feature_extraction.text import TfidfTransformer\n",
        "from sklearn.model_selection import train_test_split\n",
        "\n",
        "\n",
        "review_data = load_files(r\"/content/drive/My Drive/Colab Notebooks/movie_review\")\n",
        "X, y = review_data.data, review_data.target\n",
        "\n",
        "documents = []\n",
        "\n",
        "stemmer = WordNetLemmatizer()\n",
        "\n",
        "for sen in range(0, len(X)):\n",
        "    # Remove all the special characters\n",
        "    document = re.sub(r'\\W', ' ', str(X[sen]))\n",
        "    \n",
        "    # remove all single characters\n",
        "    document = re.sub(r'\\s+[a-zA-Z]\\s+', ' ', document)\n",
        "    \n",
        "    # Remove single characters from the start\n",
        "    document = re.sub(r'\\^[a-zA-Z]\\s+', ' ', document) \n",
        "    \n",
        "    # Substituting multiple spaces with single space\n",
        "    document = re.sub(r'\\s+', ' ', document, flags=re.I)\n",
        "    \n",
        "    # Removing prefixed 'b'\n",
        "    document = re.sub(r'^b\\s+', '', document)\n",
        "    \n",
        "    # Converting to Lowercase\n",
        "    document = document.lower()\n",
        "    \n",
        "    # Lemmatization\n",
        "    document = document.split()\n",
        "    document = [stemmer.lemmatize(word) for word in document]\n",
        "    document = ' '.join(document)\n",
        "    \n",
        "    documents.append(document)\n",
        "\n",
        "num_features = 10000\n",
        "\n",
        "# I didn't use this vectorization....\n",
        "#vectorizer = CountVectorizer(max_features=num_features, min_df=5, max_df=0.7, stop_words=stopwords.words('english'))\n",
        "#X = vectorizer.fit_transform(documents).toarray()\n",
        "#tfidfconverter = TfidfTransformer()\n",
        "#X = tfidfconverter.fit_transform(X).toarray()\n"
      ],
      "execution_count": 1,
      "outputs": [
        {
          "output_type": "stream",
          "text": [
            "[nltk_data] Downloading package stopwords to /root/nltk_data...\n",
            "[nltk_data]   Unzipping corpora/stopwords.zip.\n",
            "[nltk_data] Downloading package wordnet to /root/nltk_data...\n",
            "[nltk_data]   Unzipping corpora/wordnet.zip.\n"
          ],
          "name": "stdout"
        }
      ]
    },
    {
      "cell_type": "code",
      "metadata": {
        "id": "xrNtFBQ0U8JR",
        "colab_type": "code",
        "outputId": "f969ccde-288a-4454-e5a5-80f20386c44d",
        "colab": {
          "base_uri": "https://localhost:8080/",
          "height": 54
        }
      },
      "source": [
        "# Count words \n",
        "word_dict = {}\n",
        "\n",
        "number = 0 \n",
        "for d in documents:\n",
        "  sent = d.split(' ')\n",
        "  for w in sent:\n",
        "      if w in word_dict:\n",
        "        word_dict[w][1] +=1\n",
        "      else:\n",
        "        word_dict[w] = [number, 1]\n",
        "        number+=1\n",
        "# Number of Sentences S\n",
        "\n",
        "S = len(documents)\n",
        "low  = 0.005*S\n",
        "high = 1.0*S\n",
        "\n",
        "# Make smaller dictionary\n",
        "word_dict2 = {}\n",
        "number = 0\n",
        "for w in word_dict:\n",
        "  if low < word_dict[w][1] < high:\n",
        "    word_dict2[w] = word_dict[w]\n",
        "    word_dict2[w][0] = number\n",
        "    number+=1\n",
        "\n",
        "print(len(word_dict))\n",
        "print(len(word_dict2))\n"
      ],
      "execution_count": 2,
      "outputs": [
        {
          "output_type": "stream",
          "text": [
            "40125\n",
            "8260\n"
          ],
          "name": "stdout"
        }
      ]
    },
    {
      "cell_type": "code",
      "metadata": {
        "id": "KM2M4o4yVUuV",
        "colab_type": "code",
        "outputId": "786d963d-e0e1-474d-fb4f-bc71de25da13",
        "colab": {
          "base_uri": "https://localhost:8080/",
          "height": 54
        }
      },
      "source": [
        "# Make X data\n",
        "\n",
        "import numpy as np\n",
        "from sklearn.preprocessing import MinMaxScaler\n",
        "\n",
        "positive =[] #긍정 레이블에 많이 포함된 단어 목록. \n",
        "negative =[] #부정 레이블에 많이 포함된 단어 목록.\n",
        "\n",
        "X = np.zeros((len(documents), len(word_dict2)))\n",
        "# Make X\n",
        "for i, d in enumerate(documents):\n",
        "  sent = d.split(' ')\n",
        "  for w in sent:\n",
        "      try:\n",
        "        index  = word_dict2[w][0]\n",
        "        X[i, index] +=1   \n",
        "      except:\n",
        "        pass\n",
        "\n",
        "# OLS를 이용해서 전체 데이터에서 Positive, Negative를 찾는다. \n",
        "A = np.concatenate((X, np.ones((X.shape[0],1))), axis=1) # OLS\n",
        "m = np.linalg.lstsq(A, y, rcond=None)\n",
        "\n",
        "for i in range(len(m[0])-2):\n",
        "  if m[0][i] > 0.03:\n",
        "    positive.append(list(word_dict2.keys())[i])\n",
        "  if m[0][i] < -0.03:\n",
        "    negative.append(list(word_dict2.keys())[i])\n",
        "\n",
        "# give more weights for X data \n",
        "for i, d in enumerate(documents):\n",
        "  sent = d.split(' ')\n",
        "  for w in sent:\n",
        "      try:\n",
        "        index  = word_dict2[w][0]\n",
        "        if w in positive or w in negative:\n",
        "          X[i, index] += 3\n",
        "      except:\n",
        "        pass\n",
        "\n",
        "# Normalize\n",
        "scaler = MinMaxScaler()\n",
        "scaler.fit(X)\n",
        "X = scaler.transform(X)\n",
        "print(f\"X:{X.shape}\")\n",
        "print(f\"y:{y.shape}\")\n",
        "\n"
      ],
      "execution_count": 12,
      "outputs": [
        {
          "output_type": "stream",
          "text": [
            "X:(2000, 8260)\n",
            "y:(2000,)\n"
          ],
          "name": "stdout"
        }
      ]
    },
    {
      "cell_type": "code",
      "metadata": {
        "id": "3OA9xyj4oYrb",
        "colab_type": "code",
        "colab": {}
      },
      "source": [
        "# Install CuPy\n",
        "#!curl https://colab.chainer.org/install | CHAINER_VERSION=\"==5.1.0\" CUPY_VERSION=\"==5.1.0\" sh -\n",
        "#!apt -y install libcusparse8.0 libnvrtc8.0 libnvtoolsext1\n",
        "#!ln -snf /usr/lib/x86_64-linux-gnu/libnvrtc-builtins.so.8.0 /usr/lib/x86_64-linux-gnu/libnvrtc-builtins.so\n",
        "#!pip install cupy-cuda80\n",
        "#!pip install cupy\n",
        "import cupy as cp"
      ],
      "execution_count": 0,
      "outputs": []
    },
    {
      "cell_type": "code",
      "metadata": {
        "id": "TK170omGypMg",
        "colab_type": "code",
        "colab": {}
      },
      "source": [
        "def one_hot(y):\n",
        "  oneHotY = np.zeros((2, y.shape[0]))\n",
        "  for i in range(y.shape[0]):\n",
        "    index = int(y[i])\n",
        "    oneHotY[index][i] = 1\n",
        "  return oneHotY\n",
        "\n",
        "X_train, X_test, y_train, y_test = train_test_split(X, y, test_size=0.3, shuffle=False)\n",
        "\n",
        "y_train_index = y_train\n",
        "y_test_index = y_test\n",
        "\n",
        "y_train = one_hot(y_train)\n",
        "y_test  = one_hot(y_test)\n",
        "\n",
        "X_train = cp.asarray(X_train).T\n",
        "X_test  = cp.asarray(X_test).T\n",
        "y_train = cp.asarray(y_train)\n",
        "y_test  = cp.asarray(y_test)\n",
        "y_train_index = cp.asarray(y_train_index)\n",
        "y_test_index  = cp.asarray(y_test_index)"
      ],
      "execution_count": 0,
      "outputs": []
    },
    {
      "cell_type": "code",
      "metadata": {
        "id": "sq9AhU2yn1SW",
        "colab_type": "code",
        "colab": {}
      },
      "source": [
        "# Utilities [ LOSS, ACCURACY ]\n",
        "def loss_acc(clf, X, y, y_index):\n",
        "  H = clf.forward(X)\n",
        "  v = cp.sum(-cp.multiply(y, cp.log(H)) - cp.multiply(1-y, cp.log(1-H))) + clf.lamb * cp.mean(cp.multiply(clf.outlay,clf.outlay))/2\n",
        "  \n",
        "  w = cp.argmax(H, axis=0)\n",
        "  w = cp.sum(cp.equal(w, y_index))\n",
        "  return (v, w/H.shape[1]*100)\n",
        "\n",
        "def sigmoid(x):  \n",
        "  return 1/(1+cp.exp(-x))"
      ],
      "execution_count": 0,
      "outputs": []
    },
    {
      "cell_type": "code",
      "metadata": {
        "id": "jYLQWRLncZ6-",
        "colab_type": "code",
        "colab": {}
      },
      "source": [
        "# Classfier Class\n",
        "\n",
        "class classifier():\n",
        "    def __init__(self):\n",
        "        # Shapes\n",
        "        self.input_size  = X.shape[1]\n",
        "        self.layer1_size = num_features//2\n",
        "        self.layer2_size = num_features//4\n",
        "        self.output_size = 2\n",
        "\n",
        "        # Weights\n",
        "        self.layer1 = cp.random.normal(0, 0.2, (self.layer1_size, self.input_size))   \n",
        "        self.layer2 = cp.random.normal(0, 0.3, (self.layer2_size, self.layer1_size))  \n",
        "        self.outlay = cp.random.normal(0, 0.5, (self.output_size, self.layer2_size)) \n",
        "\n",
        "        # Bias\n",
        "        self.bias1 = cp.zeros((self.layer1_size, 1))\n",
        "        self.bias2 = cp.zeros((self.layer2_size, 1))\n",
        "        self.bias_ = cp.zeros((self.output_size, 1))\n",
        "\n",
        "        # stores\n",
        "        self.loss_train = []\n",
        "        self.loss_test  = []\n",
        "        self.acc_train  = []\n",
        "        self.acc_test   = []\n",
        "\n",
        "        # learing rate\n",
        "        self.lr =  0.01\n",
        "        self.lamb = 3e-2\n",
        "\n",
        "        \n",
        "    def forward(self, x):  # To predict right, worng answer and to calculate loss and accuracy\n",
        "        # Layer 1\n",
        "        output = self.layer1.dot(x) + self.bias1\n",
        "        output = sigmoid(output)\n",
        "\n",
        "        # Layer 2 \n",
        "        output = self.layer2.dot(output) + self.bias2\n",
        "        output = sigmoid(output)  \n",
        "\n",
        "        # Output layer\n",
        "        output = self.outlay.dot(output) + self.bias_\n",
        "        output = sigmoid(output)\n",
        "\n",
        "        return output\n",
        "\n",
        "    def predict(self, X):\n",
        "        H = self.forward(X)\n",
        "        w = cp.argmax(H, axis=0)\n",
        "        return w\n",
        "\n",
        "    def train(self, x, y):\n",
        "        # Forward -----------------------------------------------------------------\n",
        "        # Layer 1\n",
        "        input1 = x\n",
        "\n",
        "        output = cp.dot(self.layer1, x) + self.bias1\n",
        "        linval1 = output\n",
        "        output = sigmoid(output)\n",
        "        sigval1 = output\n",
        "\n",
        "        # Layer 2    \n",
        "        input2 = output\n",
        "        output = cp.dot(self.layer2, output) + self.bias2\n",
        "        linval2 = output\n",
        "        output = sigmoid(output)\n",
        "        sigval2 = output\n",
        "\n",
        "        # Layer 3  \n",
        "\n",
        "        # Output layer\n",
        "        input_ = output\n",
        "        output = cp.dot(self.outlay, output) + self.bias_\n",
        "        output = sigmoid(output)\n",
        "\n",
        "        # Backward ----------------------------------------------------------------\n",
        "        temp_ = output-y                                                       # 역전파값\n",
        "        dw = cp.dot(temp_, input_.T)/x.shape[1]\n",
        "        db = cp.sum(temp_, axis=1, keepdims=True)/x.shape[1]\n",
        "\n",
        "        self.outlay -= self.lr*dw\n",
        "        self.outlay -= self.lr*self.lamb*self.outlay\n",
        "        self.bias_  -= self.lr*db\n",
        "\n",
        "        # layer2\n",
        "        temp2 = cp.dot(dw.T, temp_)*cp.multiply(sigval2 ,(1-sigval2))           # 역전파값  \n",
        "        db = cp.sum(temp2, axis=1, keepdims=True)/x.shape[1]                # bias\n",
        "        dw = np.dot(temp2, input2.T)/x.shape[1]                            # weight\n",
        "\n",
        "        self.layer2 -= self.lr*dw\n",
        "        self.layer2 -= self.lr*self.lamb*self.layer2\n",
        "        self.bias2  -= self.lr*db\n",
        "\n",
        "        # layer1\n",
        "        temp1 = cp.dot(dw.T,temp2) * cp.multiply(sigval1 ,(1-sigval1))         # 역전파  \n",
        "        db = cp.sum(temp1, axis=1, keepdims=True)/x.shape[1]                  # bias\n",
        "        dw = np.dot(temp1, input1.T)/x.shape[1]                            # weight\n",
        "\n",
        "        self.layer1 -= self.lr*dw\n",
        "        self.layer1 -= self.lr*self.lamb*self.layer1\n",
        "        self.bias1  -= self.lr*db\n",
        "\n",
        "        return \n",
        "\n",
        "\n",
        "clf = classifier()"
      ],
      "execution_count": 0,
      "outputs": []
    },
    {
      "cell_type": "code",
      "metadata": {
        "id": "2dLUu8VbopE_",
        "colab_type": "code",
        "colab": {}
      },
      "source": [
        "# Training\n",
        "\n",
        "COUNT = 7000\n",
        "for k in range(0, COUNT+1):\n",
        "\n",
        "  clf.train(X_train, y_train)\n",
        "  a,b = loss_acc(clf, X_train, y_train, y_train_index)\n",
        "  c,d = loss_acc(clf, X_test, y_test, y_test_index)\n",
        "  clf.loss_train.append(a)\n",
        "  clf.loss_test.append(c)\n",
        "  clf.acc_train.append(b)\n",
        "  clf.acc_test.append(d)"
      ],
      "execution_count": 0,
      "outputs": []
    },
    {
      "cell_type": "markdown",
      "metadata": {
        "id": "wn5o0SrNpRre",
        "colab_type": "text"
      },
      "source": [
        "\n",
        "# Result\n",
        "\n",
        "\n",
        "\n",
        "## Plot the loss curve\n",
        "\n",
        "The training loss and testing loss at every iteration of gradient descent"
      ]
    },
    {
      "cell_type": "code",
      "metadata": {
        "id": "esWg_67IpR5R",
        "colab_type": "code",
        "outputId": "1ce99754-5f79-4e4f-ede9-7fb2d58af166",
        "colab": {
          "base_uri": "https://localhost:8080/",
          "height": 408
        }
      },
      "source": [
        "import matplotlib.pyplot as plt\n",
        "\n",
        "plt.figure(figsize=(6,6))\n",
        "plt.plot(clf.loss_train, color='b')\n",
        "plt.plot(clf.loss_test,  color='r')\n",
        "plt.legend(['train', 'test'])\n",
        "plt.title('Loss Curve')"
      ],
      "execution_count": 121,
      "outputs": [
        {
          "output_type": "execute_result",
          "data": {
            "text/plain": [
              "Text(0.5, 1.0, 'Loss Curve')"
            ]
          },
          "metadata": {
            "tags": []
          },
          "execution_count": 121
        },
        {
          "output_type": "display_data",
          "data": {
            "image/png": "[encoded data removed]",
            "text/plain": [
              "<Figure size 432x432 with 1 Axes>"
            ]
          },
          "metadata": {
            "tags": [],
            "needs_background": "light"
          }
        }
      ]
    },
    {
      "cell_type": "markdown",
      "metadata": {
        "id": "yiUPZo1CpaFZ",
        "colab_type": "text"
      },
      "source": [
        "## Plot the accuracy curve\n",
        "\n",
        "The training accuracy (%) and testing accuracy (%) at every iteration of gradient descent"
      ]
    },
    {
      "cell_type": "code",
      "metadata": {
        "id": "0xYPF__ZpaOG",
        "colab_type": "code",
        "outputId": "09290ee7-ef73-47c4-9e79-d9e424f6661f",
        "colab": {
          "base_uri": "https://localhost:8080/",
          "height": 355
        }
      },
      "source": [
        "plt.figure(figsize=(5,5))\n",
        "plt.plot(clf.acc_train, color='b')\n",
        "plt.plot(clf.acc_test , color='r')\n",
        "plt.legend(['train', 'test'])\n",
        "plt.title('Accuracy Curve')"
      ],
      "execution_count": 122,
      "outputs": [
        {
          "output_type": "execute_result",
          "data": {
            "text/plain": [
              "Text(0.5, 1.0, 'Accuracy Curve')"
            ]
          },
          "metadata": {
            "tags": []
          },
          "execution_count": 122
        },
        {
          "output_type": "display_data",
          "data": {
            "image/png": "[encoded data removed]",
            "text/plain": [
              "<Figure size 360x360 with 1 Axes>"
            ]
          },
          "metadata": {
            "tags": [],
            "needs_background": "light"
          }
        }
      ]
    },
    {
      "cell_type": "markdown",
      "metadata": {
        "id": "_-_GXHcXpaVt",
        "colab_type": "text"
      },
      "source": [
        "## Plot the quantitative results"
      ]
    },
    {
      "cell_type": "code",
      "metadata": {
        "id": "V9te1YeJP2U3",
        "colab_type": "code",
        "outputId": "4032d276-59ea-4ba9-a852-c64aa5d56f68",
        "colab": {
          "base_uri": "https://localhost:8080/",
          "height": 545
        }
      },
      "source": [
        "from sklearn.metrics import classification_report, confusion_matrix, accuracy_score\n",
        "\n",
        "print(\"Confusion Matrix of training data\")\n",
        "print(confusion_matrix(y_train_index.tolist(),       clf.predict(X_train).tolist()))\n",
        "print(classification_report(y_train_index.tolist(),  clf.predict(X_train).tolist()))\n",
        "print(\"Accuracy of Training Data\", accuracy_score(y_train_index.tolist(),         clf.predict(X_train).tolist()))\n",
        "print(\"\\n\\n\")\n",
        "\n",
        "print(\"Confusion Matrix of testing data\")\n",
        "print(confusion_matrix(y_test_index.tolist(),       clf.predict(X_test).tolist()))\n",
        "print(classification_report(y_test_index.tolist(),  clf.predict(X_test).tolist()))\n",
        "print(\"Accuracy of Testing Data\", accuracy_score(y_test_index.tolist(),         clf.predict(X_test).tolist()))\n"
      ],
      "execution_count": 124,
      "outputs": [
        {
          "output_type": "stream",
          "text": [
            "Confusion Matrix of training data\n",
            "[[539 159]\n",
            " [ 74 628]]\n",
            "              precision    recall  f1-score   support\n",
            "\n",
            "           0       0.88      0.77      0.82       698\n",
            "           1       0.80      0.89      0.84       702\n",
            "\n",
            "    accuracy                           0.83      1400\n",
            "   macro avg       0.84      0.83      0.83      1400\n",
            "weighted avg       0.84      0.83      0.83      1400\n",
            "\n",
            "Accuracy of Training Data 0.8335714285714285\n",
            "\n",
            "\n",
            "\n",
            "Confusion Matrix of testing data\n",
            "[[197 105]\n",
            " [ 46 252]]\n",
            "              precision    recall  f1-score   support\n",
            "\n",
            "           0       0.81      0.65      0.72       302\n",
            "           1       0.71      0.85      0.77       298\n",
            "\n",
            "    accuracy                           0.75       600\n",
            "   macro avg       0.76      0.75      0.75       600\n",
            "weighted avg       0.76      0.75      0.75       600\n",
            "\n",
            "Accuracy of Testing Data 0.7483333333333333\n"
          ],
          "name": "stdout"
        }
      ]
    }
  ]
}