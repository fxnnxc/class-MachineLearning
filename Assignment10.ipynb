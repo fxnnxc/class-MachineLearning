{
  "nbformat": 4,
  "nbformat_minor": 0,
  "metadata": {
    "colab": {
      "name": "Assignment10.ipynb",
      "provenance": [],
      "collapsed_sections": [],
      "toc_visible": true,
      "mount_file_id": "1rNUNvTn7RbvqzKreFKLiFU1IsoO93gvV",
      "authorship_tag": "ABX9TyP1M06nO+fyP+FpI2BEG4rR",
      "include_colab_link": true
    },
    "kernelspec": {
      "name": "python3",
      "display_name": "Python 3"
    },
    "accelerator": "GPU"
  },
  "cells": [
    {
      "cell_type": "markdown",
      "metadata": {
        "id": "view-in-github",
        "colab_type": "text"
      },
      "source": [
        "<a href=\"https://colab.research.google.com/github/fxnnxc/class-MachineLearning/blob/master/Assignment10.ipynb\" target=\"_parent\"><img src=\"https://colab.research.google.com/assets/colab-badge.svg\" alt=\"Open In Colab\"/></a>"
      ]
    },
    {
      "cell_type": "markdown",
      "metadata": {
        "id": "Mf006_e5R3Zb",
        "colab_type": "text"
      },
      "source": [
        "# Assignment10\n",
        "\n",
        "Multi-label classification using neural networks with a regularization"
      ]
    },
    {
      "cell_type": "markdown",
      "metadata": {
        "id": "I0pl1ca7R34C",
        "colab_type": "text"
      },
      "source": [
        "##  Codes\n",
        "\n",
        "### Read file and split train and test data "
      ]
    },
    {
      "cell_type": "code",
      "metadata": {
        "id": "jxo06x7QRzbn",
        "colab_type": "code",
        "colab": {}
      },
      "source": [
        "import matplotlib.pyplot as plt\n",
        "import numpy as np\n",
        "\n",
        "file_data   = \"/content/drive/My Drive/Classroom/Machine Learning (1) 2020-1/mnist.csv\"\n",
        "handle_file = open(file_data, \"r\")\n",
        "data        = handle_file.readlines()\n",
        "handle_file.close()\n",
        "\n",
        "size_row    = 28    # height of the image\n",
        "size_col    = 28    # width of the image\n",
        "\n",
        "num_image   = len(data)\n",
        "count       = 0     # count for the number of images\n",
        "\n",
        "\n",
        "def normalize(data):\n",
        "    data_normalized = (data - min(data)) / (max(data) - min(data))\n",
        "    return(data_normalized)\n",
        "\n",
        "def distance(x, y):\n",
        "    d = (x - y) ** 2\n",
        "    s = np.sum(d)\n",
        "    # r = np.sqrt(s)\n",
        "\n",
        "    return(s)\n",
        "\n",
        "#\n",
        "# make a matrix each column of which represents an images in a vector form\n",
        "#\n",
        "list_image  = np.empty((size_row * size_col, num_image), dtype=float)\n",
        "list_label  = np.empty(num_image, dtype=int)\n",
        "\n",
        "for line in data:\n",
        "\n",
        "    line_data   = line.split(',')\n",
        "    label       = line_data[0]\n",
        "    im_vector   = np.asfarray(line_data[1:])\n",
        "    im_vector   = normalize(im_vector)\n",
        "\n",
        "    list_label[count]       = label\n",
        "    list_image[:, count]    = im_vector\n",
        "\n",
        "    count += 1\n"
      ],
      "execution_count": 0,
      "outputs": []
    },
    {
      "cell_type": "code",
      "metadata": {
        "id": "1b_AchjlVRhu",
        "colab_type": "code",
        "colab": {}
      },
      "source": [
        "# Install CuPy\n",
        "\n",
        "#!apt -y install libcusparse8.0 libnvrtc8.0 libnvtoolsext1\n",
        "!ln -snf /usr/lib/x86_64-linux-gnu/libnvrtc-builtins.so.8.0 /usr/lib/x86_64-linux-gnu/libnvrtc-builtins.so\n",
        "#!pip install cupy-cuda80"
      ],
      "execution_count": 0,
      "outputs": []
    },
    {
      "cell_type": "code",
      "metadata": {
        "id": "31TKS5FDSDnA",
        "colab_type": "code",
        "colab": {}
      },
      "source": [
        "import cupy as cp\n",
        "\n",
        "def one_hot(y):\n",
        "  oneHotY = np.zeros((10, len(y)))\n",
        "  for i in range(len(y)):\n",
        "    oneHotY[y[i]][i] = 1\n",
        "  return oneHotY\n",
        "\n",
        "train_size = 1000\n",
        "\n",
        "X_train = cp.asarray(list_image[:,:train_size])\n",
        "X_test  = cp.asarray(list_image[:,train_size:])\n",
        "y_train_index = cp.asarray(list_label[:train_size])\n",
        "y_test_index = cp.asarray(list_label[train_size:])\n",
        "y_train = cp.asarray(one_hot(list_label[:train_size]))\n",
        "y_test  = cp.asarray(one_hot(list_label[train_size:]))"
      ],
      "execution_count": 0,
      "outputs": []
    },
    {
      "cell_type": "code",
      "metadata": {
        "id": "bz83wCJiEC9r",
        "colab_type": "code",
        "colab": {}
      },
      "source": [
        "# Utilities [ LOSS, ACCURACY ]\n",
        "def loss_acc(X, y,y_index):\n",
        "  H = forward(X)\n",
        "  v = cp.sum(-cp.multiply(y, cp.log(H)) - cp.multiply(1-y, cp.log(1-H))) + lamb * cp.mean(cp.multiply(outlay,outlay))/2\n",
        "  \n",
        "  w = cp.argmax(H, axis=0)\n",
        "  w = cp.sum(cp.equal(w, y_index))\n",
        "  return (v, w/H.shape[1]*100)\n"
      ],
      "execution_count": 0,
      "outputs": []
    },
    {
      "cell_type": "markdown",
      "metadata": {
        "id": "agvVcIMSfrT6",
        "colab_type": "text"
      },
      "source": [
        "## Training\n",
        "\n",
        "Loss Function : $J(\\theta) = {1 \\over M} \\sum (l*log(h) - (1-l) log(1-h))$\n",
        "\n",
        "How to update theta : $\\theta_i = \\theta_i - \\alpha( \\sum{(\\sigma - Label)*x_i} )$\n",
        "\n",
        "\n",
        "\n",
        " ![image.png](data:image/png;base64,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)\n",
        "\n"
      ]
    },
    {
      "cell_type": "code",
      "metadata": {
        "id": "756hn91ZvmFP",
        "colab_type": "code",
        "colab": {}
      },
      "source": [
        "# Shapes\n",
        "input_size  = 784 \n",
        "layer1_size = 196 \n",
        "layer2_size = 49 \n",
        "output_size = 10\n",
        "\n",
        "# Weights\n",
        "layer1 = cp.random.normal(0,2,(layer1_size, input_size+1 ))   # With bias\n",
        "layer2 = cp.random.normal(0,2,(layer2_size, layer1_size+1))  # With bias\n",
        "outlay = cp.random.normal(0,2,(output_size, layer2_size+1))  # With bias\n",
        "\n",
        "# stores\n",
        "loss_train = []\n",
        "loss_test  = []\n",
        "acc_train  = []\n",
        "acc_test   = []\n",
        "\n",
        "# learing rate\n",
        "lr =  0.01\n",
        "lamb = 0.0000001"
      ],
      "execution_count": 0,
      "outputs": []
    },
    {
      "cell_type": "code",
      "metadata": {
        "id": "MPwAjMX_XhTB",
        "colab_type": "code",
        "colab": {}
      },
      "source": [
        "# Functions\n",
        "\n",
        "def sigmoid(x):  \n",
        "  return 1/(1+cp.exp(-x))\n",
        "\n",
        "def forward(x):  # To predict right, worng answer and to calculate loss and accuracy\n",
        "    global outlay, layer1, layer2\n",
        "    # Layer 1\n",
        "    output = cp.concatenate((x, cp.ones((1, len(x[0])))), axis=0)\n",
        "    output = layer1.dot(output) \n",
        "    output = sigmoid(output)\n",
        "\n",
        "    # Layer 2\n",
        "    output = cp.concatenate((output, cp.ones((1,len(output[0])))), axis=0)   \n",
        "    output = layer2.dot(output)\n",
        "    output = sigmoid(output)\n",
        "    \n",
        "    # Output layer\n",
        "    output = cp.concatenate((output, cp.ones((1,len(output[0])))), axis=0)\n",
        "    output = outlay.dot(output)\n",
        "    output = sigmoid(output)\n",
        "\n",
        "    return output\n",
        "\n",
        "def train(x, y):\n",
        "    global outlay, layer1, layer2, lr\n",
        "\n",
        "    # Forward -----------------------------------------------------------------\n",
        "    # Layer 1\n",
        "\n",
        "\n",
        "    output = cp.concatenate((x, cp.ones((1, len(x[0])))), axis=0)\n",
        "    value1 = output\n",
        "    output = cp.dot(layer1, output)\n",
        "    output = sigmoid(output)\n",
        "    sigval1 = output\n",
        "\n",
        "    # Layer 2\n",
        "    output = cp.concatenate((output, cp.ones((1,len(output[0])))), axis=0)   \n",
        "    value2 = output\n",
        "    output = cp.dot(layer2, output)\n",
        "    output = sigmoid(output)\n",
        "    sigval2 = output\n",
        "\n",
        "    \n",
        "    # Output layer\n",
        "    output = cp.concatenate((output, cp.ones((1,len(output[0])))), axis=0)\n",
        "    value3 = output\n",
        "    output = cp.dot(outlay, output)\n",
        "    output = sigmoid(output)\n",
        "\n",
        "    # Backward ----------------------------------------------------------------\n",
        "    temp1 = cp.dot(output - y, value3.T)/train_size\n",
        "    \n",
        "    outlay -= lr*temp1\n",
        "    outlay -= lamb*outlay\n",
        "\n",
        "\n",
        "    # layer2\n",
        "    a = cp.multiply(sigval2, (1-sigval2))\n",
        "    b = value2\n",
        "    temp2 = cp.dot(a,b.T)/train_size\n",
        "    tt2 = cp.sum(temp1, axis=0)[:-1]\n",
        "    tt2 = cp.broadcast_to(tt2,(197,49)).T\n",
        "    back2 = cp.multiply(tt2 , temp2)\n",
        "    \n",
        "    layer2 -= lr*back2 \n",
        "    layer2 -= lamb*layer2\n",
        "\n",
        "    # layer1\n",
        "    c = cp.multiply(sigval1, (1-sigval1))\n",
        "    d = value1\n",
        "    temp3 = cp.dot(c,d.T)/train_size\n",
        "    tt3 = cp.sum(back2, axis=0)[:-1]\n",
        "    tt3 = cp.broadcast_to(tt3, (785,196)).T\n",
        "    back3 = cp.multiply(tt3, temp3)\n",
        "    \n",
        "    layer1 -= lr*back3\n",
        "    layer1 -= lamb*layer1\n",
        "\n",
        "    return "
      ],
      "execution_count": 0,
      "outputs": []
    },
    {
      "cell_type": "code",
      "metadata": {
        "id": "4kW3NVI0bUWG",
        "colab_type": "code",
        "colab": {}
      },
      "source": [
        "# Training\n",
        "COUNT = 10000\n",
        "\n",
        "for k in range(0, COUNT+1):\n",
        "  train(X_train, y_train)\n",
        "\n",
        "  a,b = loss_acc(X_train, y_train, y_train_index)\n",
        "  c,d = loss_acc(X_test, y_test, y_test_index)\n",
        "  loss_train.append(a)\n",
        "  loss_test.append(c)\n",
        "  acc_train.append(b)\n",
        "  acc_test.append(d)\n"
      ],
      "execution_count": 0,
      "outputs": []
    },
    {
      "cell_type": "code",
      "metadata": {
        "id": "KhFS3dYNXVH6",
        "colab_type": "code",
        "colab": {}
      },
      "source": [
        "# Predict 10 right answer and 10 wrong answer\n",
        "H = forward(X_test)\n",
        "y = cp.argmax(H, axis=0)\n",
        "\n",
        "right_index = [None]*10\n",
        "right_label = [None]*10\n",
        "wrong_index = [None]*10\n",
        "wrong_label = [None]*10\n",
        "\n",
        "right_count = 0\n",
        "wrong_count = 0\n",
        "\n",
        "i = 0\n",
        "while right_count<10:             # Right prediction\n",
        "    if y[i]== y_test_index[i]:\n",
        "        right_index[right_count] = i+train_size\n",
        "        right_label[right_count] = int(y[i])\n",
        "        right_count +=1\n",
        "    i+=1\n",
        "\n",
        "i=0  \n",
        "while wrong_count<10:             # Wrong prediction\n",
        "    if y[i] !=y_test_index[i]:\n",
        "        wrong_index[wrong_count] = i+train_size\n",
        "        wrong_label[wrong_count] = int(y[i])\n",
        "        wrong_count +=1\n",
        "    i+=1\n",
        "\n",
        "right_image =list_image[:,right_index]\n",
        "wrong_image =list_image[:,wrong_index]"
      ],
      "execution_count": 0,
      "outputs": []
    },
    {
      "cell_type": "markdown",
      "metadata": {
        "id": "Bh8iVyOdSJJW",
        "colab_type": "text"
      },
      "source": [
        "##  Result"
      ]
    },
    {
      "cell_type": "markdown",
      "metadata": {
        "id": "maxIXmskSUuy",
        "colab_type": "text"
      },
      "source": [
        "###  Plot the loss curve\n",
        "\n",
        "The training loss at every iteration of gradient descent\n",
        "\n"
      ]
    },
    {
      "cell_type": "code",
      "metadata": {
        "id": "VvqYy_V2SJhl",
        "colab_type": "code",
        "outputId": "d5de71d1-b569-48ad-fd77-2e9848e57862",
        "colab": {
          "base_uri": "https://localhost:8080/",
          "height": 407
        }
      },
      "source": [
        "import matplotlib.pyplot as plt\n",
        "\n",
        "plt.figure(figsize=(6,6))\n",
        "plt.plot(loss_train, color='b')\n",
        "plt.plot(loss_test,  color='r')\n",
        "plt.legend(['train', 'test'])\n",
        "plt.title('Loss Curve')"
      ],
      "execution_count": 115,
      "outputs": [
        {
          "output_type": "execute_result",
          "data": {
            "text/plain": [
              "Text(0.5, 1.0, 'Loss Curve')"
            ]
          },
          "metadata": {
            "tags": []
          },
          "execution_count": 115
        },
        {
          "output_type": "display_data",
          "data": {
            "image/png": "[encoded data removed]",
            "text/plain": [
              "<Figure size 432x432 with 1 Axes>"
            ]
          },
          "metadata": {
            "tags": [],
            "needs_background": "light"
          }
        }
      ]
    },
    {
      "cell_type": "markdown",
      "metadata": {
        "id": "HLc2Y0szSZjz",
        "colab_type": "text"
      },
      "source": [
        "### Plot the accuracy curve\n",
        "\n",
        "The training accuracy (%) at every iteration of gradient descent "
      ]
    },
    {
      "cell_type": "code",
      "metadata": {
        "id": "y15Ho9a_SZqN",
        "colab_type": "code",
        "outputId": "f3186715-f277-4f13-db87-822485e939ac",
        "colab": {
          "base_uri": "https://localhost:8080/",
          "height": 353
        }
      },
      "source": [
        "plt.figure(figsize=(5,5))\n",
        "plt.plot(acc_train, color='b')\n",
        "plt.plot(acc_test , color='r')\n",
        "plt.legend(['train', 'test'])\n",
        "plt.title('Accuracy Curve')"
      ],
      "execution_count": 116,
      "outputs": [
        {
          "output_type": "execute_result",
          "data": {
            "text/plain": [
              "Text(0.5, 1.0, 'Accuracy Curve')"
            ]
          },
          "metadata": {
            "tags": []
          },
          "execution_count": 116
        },
        {
          "output_type": "display_data",
          "data": {
            "image/png": "[encoded data removed]",
            "text/plain": [
              "<Figure size 360x360 with 1 Axes>"
            ]
          },
          "metadata": {
            "tags": [],
            "needs_background": "light"
          }
        }
      ]
    },
    {
      "cell_type": "markdown",
      "metadata": {
        "id": "0xyu23uOSZwN",
        "colab_type": "text"
      },
      "source": [
        "###  Plot the accuracy value\n",
        "\n",
        "The final training accuracy (%) "
      ]
    },
    {
      "cell_type": "code",
      "metadata": {
        "id": "5q376ot5SZ2J",
        "colab_type": "code",
        "outputId": "5f96f519-b9c8-4a7a-def7-37f0c8bd22d8",
        "colab": {
          "base_uri": "https://localhost:8080/",
          "height": 52
        }
      },
      "source": [
        "from termcolor import colored\n",
        "\n",
        "print(colored(f\"Final Training Accuracy Of Train Data : {float(acc_train[-1]):.1f}%\", 'blue'))\n",
        "print(colored(f\"Final Training Accuracy Of Test  Data : {float(acc_test[-1]):.1f}%\", 'red'))"
      ],
      "execution_count": 117,
      "outputs": [
        {
          "output_type": "stream",
          "text": [
            "\u001b[34mFinal Training Accuracy Of Train Data : 35.9%\u001b[0m\n",
            "\u001b[31mFinal Training Accuracy Of Test  Data : 30.9%\u001b[0m\n"
          ],
          "name": "stdout"
        }
      ]
    },
    {
      "cell_type": "markdown",
      "metadata": {
        "id": "2KtUs__qSZ_r",
        "colab_type": "text"
      },
      "source": [
        "###  Plot the classification example\n",
        "\n",
        "present 10 correctly classified testing images\n",
        "\n",
        "present 10 misclassified testing images "
      ]
    },
    {
      "cell_type": "code",
      "metadata": {
        "id": "-PB48WHLFQjK",
        "colab_type": "code",
        "outputId": "0375704d-847c-4e90-b2f3-df70855490b3",
        "colab": {
          "base_uri": "https://localhost:8080/",
          "height": 544
        }
      },
      "source": [
        "fig = plt.figure(figsize=(12,4))\n",
        "fig.suptitle('Right Prediction of testing images')\n",
        "for i in range(10):\n",
        "    plt.subplot(2, 5, i+1)\n",
        "    plt.title(f\"predict: {right_label[i]}\")\n",
        "    v = right_image[:,i]\n",
        "    plt.imshow(v.reshape((size_row, size_col)), cmap='Greys', interpolation='None')\n",
        "\n",
        "    frame   = plt.gca()\n",
        "    frame.axes.get_xaxis().set_visible(False)\n",
        "    frame.axes.get_yaxis().set_visible(False)\n",
        "\n",
        "fig = plt.figure(figsize=(12,4))\n",
        "fig.suptitle('Wrong Prediction of testing images')\n",
        "for i in range(10):\n",
        "    plt.subplot(2, 5, i+1)\n",
        "    plt.title(f\"predict: {wrong_label[i]}\")\n",
        "    plt.imshow(wrong_image[:,i].reshape((size_row, size_col)), cmap='Greys', interpolation='None')\n",
        "\n",
        "    frame   = plt.gca()\n",
        "    frame.axes.get_xaxis().set_visible(False)\n",
        "    frame.axes.get_yaxis().set_visible(False)\n",
        "\n",
        "plt.show()\n"
      ],
      "execution_count": 118,
      "outputs": [
        {
          "output_type": "display_data",
          "data": {
            "image/png": "[encoded data removed]",
            "text/plain": [
              "<Figure size 864x288 with 10 Axes>"
            ]
          },
          "metadata": {
            "tags": [],
            "needs_background": "light"
          }
        },
        {
          "output_type": "display_data",
          "data": {
            "image/png": "[encoded data removed]",
            "text/plain": [
              "<Figure size 864x288 with 10 Axes>"
            ]
          },
          "metadata": {
            "tags": [],
            "needs_background": "light"
          }
        }
      ]
    },
    {
      "cell_type": "markdown",
      "metadata": {
        "id": "AK3GjZZOb5ln",
        "colab_type": "text"
      },
      "source": [
        "## 5. Testing Accuracy"
      ]
    },
    {
      "cell_type": "code",
      "metadata": {
        "id": "vpjn2jRQb7T4",
        "colab_type": "code",
        "colab": {
          "base_uri": "https://localhost:8080/",
          "height": 34
        },
        "outputId": "4ea20be6-dfd5-42bd-8e35-67f250e68cf8"
      },
      "source": [
        "print(colored(f\"Final Training Accuracy Of Test  Data : {float(acc_test[-1]):.1f}%\", 'red'))"
      ],
      "execution_count": 110,
      "outputs": [
        {
          "output_type": "stream",
          "text": [
            "\u001b[31mFinal Training Accuracy Of Test  Data : 42.7%\u001b[0m\n"
          ],
          "name": "stdout"
        }
      ]
    },
    {
      "cell_type": "code",
      "metadata": {
        "id": "ofpQ1eRfc6_D",
        "colab_type": "code",
        "colab": {}
      },
      "source": [
        ""
      ],
      "execution_count": 0,
      "outputs": []
    }
  ]
}