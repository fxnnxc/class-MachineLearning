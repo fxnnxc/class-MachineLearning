{
  "nbformat": 4,
  "nbformat_minor": 0,
  "metadata": {
    "colab": {
      "name": "Assignment04.ipynb",
      "provenance": [],
      "collapsed_sections": [],
      "toc_visible": true,
      "include_colab_link": true
    },
    "kernelspec": {
      "name": "python3",
      "display_name": "Python 3"
    }
  },
  "cells": [
    {
      "cell_type": "markdown",
      "metadata": {
        "id": "view-in-github",
        "colab_type": "text"
      },
      "source": [
        "<a href=\"https://colab.research.google.com/github/fxnnxc/class-MachineLearning/blob/master/Assignment04.ipynb\" target=\"_parent\"><img src=\"https://colab.research.google.com/assets/colab-badge.svg\" alt=\"Open In Colab\"/></a>"
      ]
    },
    {
      "cell_type": "markdown",
      "metadata": {
        "id": "iew9q23faeKI",
        "colab_type": "text"
      },
      "source": [
        "# Assignment04 \n",
        "**20165396 박범진**\n"
      ]
    },
    {
      "cell_type": "markdown",
      "metadata": {
        "id": "-lxXhiTgamJE",
        "colab_type": "text"
      },
      "source": [
        "## 1. Plot the estimated parameters using the training dataset\n",
        "\n",
        "* plot the estimated parameters $\\{ (\\theta_0, \\theta_1, \\theta_2, \\theta_3) \\}$ at every iteration of gradient descent until convergence\n",
        "\n",
        "* the colors for the parameters $\\{ (\\theta_0, \\theta_1, \\theta_2, \\theta_3) \\}$should be black, red, green, blue, respectively\n",
        "\n",
        "* the optimization is performed using the training dataset ('data_train.csv')\n",
        "\n"
      ]
    },
    {
      "cell_type": "code",
      "metadata": {
        "id": "-TXatLJFal1r",
        "colab_type": "code",
        "colab": {}
      },
      "source": [
        "# Read the files\n",
        "import csv\n",
        "import numpy as np\n",
        "\n",
        "data_train = []\n",
        "data_test = []\n",
        "with open('data_train.csv', newline='') as myfile:\n",
        "    reader = csv.reader(myfile, delimiter=',')\n",
        "    for i in reader:\n",
        "      data_train.append(list(map(np.float32, i)))\n",
        "\n",
        "with open('data_test.csv', newline='') as myfile:\n",
        "    reader = csv.reader(myfile, delimiter=',')\n",
        "    for i in reader:\n",
        "      data_test.append(list(map(np.float32, i)))\n"
      ],
      "execution_count": 0,
      "outputs": []
    },
    {
      "cell_type": "code",
      "metadata": {
        "id": "SURr4J1EaaxV",
        "colab_type": "code",
        "colab": {}
      },
      "source": [
        "# Model Training\n",
        "\n",
        "import random\n",
        "random.seed(0)\n",
        "theta = [random.random()]*4\n",
        "lr = 0.000001\n",
        "\n",
        "def func(t0,t1,t2,t3, x,y,z): # Function \n",
        "    return t0 + t1*x + t2*y + t3*z\n",
        "\n",
        "def loss(data, t0,t1,t2,t3):\n",
        "  J =  sum([(func(t0,t1,t2,t3, d[0],d[1],d[2]) - d[3])**2 for d in data])/len(data)/2\n",
        "  return J\n",
        "\n",
        "J = loss(data_train,theta[0], theta[1], theta[2], theta[3])\n",
        "J_test = loss(data_test, theta[0], theta[1], theta[2], theta[3])\n",
        "LOSS = [J]\n",
        "LOSS_test = [J_test]\n",
        "THETA =[[theta[0], theta[1],theta[2],theta[3]]]\n",
        "        \n",
        "# train data_train\n",
        "while True:\n",
        "  temp = J\n",
        "  M = len(data_train)\n",
        "  # Update Theta\n",
        "  t0,t1,t2,t3 = theta\n",
        "  theta[0] =theta[0] - lr* sum([(func(t0,t1,t2,t3, d[0],d[1], d[2]) - d[3]) for d in data_train])/M\n",
        "  theta[1] =theta[1] - lr* sum([(func(t0,t1,t2,t3, d[0],d[1], d[2]) - d[3])*d[0] for d in data_train])/M\n",
        "  theta[2] =theta[2] - lr* sum([(func(t0,t1,t2,t3, d[0],d[1], d[2]) - d[3])*d[1] for d in data_train])/M\n",
        "  theta[3] =theta[3] - lr* sum([(func(t0,t1,t2,t3, d[0],d[1], d[2]) - d[3])*d[2] for d in data_train])/M\n",
        "  THETA.append([theta[0], theta[1],theta[2],theta[3]]) # Store Theta\n",
        "\n",
        "  # Update and Store Loss\n",
        "  J = loss(data_train, theta[0], theta[1], theta[2], theta[3])\n",
        "  J_test = loss(data_test, theta[0], theta[1], theta[2], theta[3])\n",
        "  LOSS.append(J)\n",
        "  LOSS_test.append(J_test)\n",
        "  if abs(t0-theta[0])  + abs(t1-theta[1]) + abs(t2-theta[2]) + abs(t3-theta[3])  <0.00001: # Convergence\n",
        "    break"
      ],
      "execution_count": 0,
      "outputs": []
    },
    {
      "cell_type": "code",
      "metadata": {
        "id": "RoAv8nlLsh6h",
        "colab_type": "code",
        "outputId": "172e641f-71ff-4714-a1ff-c6efe8fe2378",
        "colab": {
          "base_uri": "https://localhost:8080/",
          "height": 298
        }
      },
      "source": [
        "# Plot estimated parameters using the training dataset\n",
        "import matplotlib.pyplot as plt\n",
        "\n",
        "colors = ['black', 'red', 'green', 'blue'] \n",
        "for i in range(4): # 색깔별로 출력\n",
        "  plt.plot([THETA[j][i] for j in range(len(THETA))], c=colors[i])\n",
        "plt.legend(['theta0', 'theta1', 'theta2', 'theta3'])\n",
        "plt.title('estimated parameters using the training dataest') "
      ],
      "execution_count": 23,
      "outputs": [
        {
          "output_type": "execute_result",
          "data": {
            "text/plain": [
              "Text(0.5, 1.0, 'estimated parameters using the training dataest')"
            ]
          },
          "metadata": {
            "tags": []
          },
          "execution_count": 23
        },
        {
          "output_type": "display_data",
          "data": {
            "image/png": "[encoded data removed]",
            "text/plain": [
              "<Figure size 432x288 with 1 Axes>"
            ]
          },
          "metadata": {
            "tags": [],
            "needs_background": "light"
          }
        }
      ]
    },
    {
      "cell_type": "markdown",
      "metadata": {
        "id": "dStPL5hFxknm",
        "colab_type": "text"
      },
      "source": [
        "## 2. Plotting the training error\n",
        "\n",
        "훈련 시 저장해둔 Loss를 플롯한다. "
      ]
    },
    {
      "cell_type": "code",
      "metadata": {
        "id": "KJ8ZN8KBxoMS",
        "colab_type": "code",
        "outputId": "5ee6b07c-f471-49dd-decf-279d3b451f86",
        "colab": {
          "base_uri": "https://localhost:8080/",
          "height": 517
        }
      },
      "source": [
        "# LOSS 변수에 저장된 에러를 플롯\n",
        "\n",
        "plt.figure(figsize=(8,8))\n",
        "plt.plot(LOSS[:100], color='blue')\n",
        "plt.title('Error Using Training Data')"
      ],
      "execution_count": 24,
      "outputs": [
        {
          "output_type": "execute_result",
          "data": {
            "text/plain": [
              "Text(0.5, 1.0, 'Error Using Training Data')"
            ]
          },
          "metadata": {
            "tags": []
          },
          "execution_count": 24
        },
        {
          "output_type": "display_data",
          "data": {
            "image/png": "[encoded data removed]",
            "text/plain": [
              "<Figure size 576x576 with 1 Axes>"
            ]
          },
          "metadata": {
            "tags": [],
            "needs_background": "light"
          }
        }
      ]
    },
    {
      "cell_type": "markdown",
      "metadata": {
        "id": "_AreiuR5zwMy",
        "colab_type": "text"
      },
      "source": [
        "## 3. Plotting the test error\n",
        "\n",
        "Train 데이터를 훈련시키면서 해당 세타에 대하여 Test data에도 Loss값을 계산해서 저장해뒀다. \n",
        "\n",
        "이를 활용하여 Test error를 Plot 한다. "
      ]
    },
    {
      "cell_type": "code",
      "metadata": {
        "id": "vZonHaWMzRyG",
        "colab_type": "code",
        "outputId": "07a54898-5106-4b3c-bfb3-643d6c69e8b1",
        "colab": {
          "base_uri": "https://localhost:8080/",
          "height": 517
        }
      },
      "source": [
        "# LOSS_test 변수에 저장된 test 데이터 에러 플롯\n",
        "\n",
        "plt.figure(figsize=(8,8))\n",
        "plt.plot(LOSS_test, color='red')\n",
        "plt.title('Error Using Testing   Data')"
      ],
      "execution_count": 25,
      "outputs": [
        {
          "output_type": "execute_result",
          "data": {
            "text/plain": [
              "Text(0.5, 1.0, 'Error Using Testing   Data')"
            ]
          },
          "metadata": {
            "tags": []
          },
          "execution_count": 25
        },
        {
          "output_type": "display_data",
          "data": {
            "image/png": "[encoded data removed]",
            "text/plain": [
              "<Figure size 576x576 with 1 Axes>"
            ]
          },
          "metadata": {
            "tags": [],
            "needs_background": "light"
          }
        }
      ]
    },
    {
      "cell_type": "markdown",
      "metadata": {
        "id": "_lYU1srL2c9z",
        "colab_type": "text"
      },
      "source": [
        "##4. Conclusion\n",
        "\n",
        "초기에 세타값을 변하는 게 훈련데이터와 테스트 데이터 모두의 로스를 줄인 것을 볼 수 있다. \n",
        "\n",
        "다양한 초기값에 대하여 진행했을 경우 theta1,2,3은 일정한 값으로 수렴했으나, \n",
        "theta0는 초기값에서 크게 벗어나지 않았다. \n",
        "\n",
        "$ h_\\theta  = \\theta_0 + \\theta_1 x + \\theta_2 y + \\theta_3 z \\approx \\theta_0^{(0)} + 0.5x -y + 4z $ "
      ]
    }
  ]
}