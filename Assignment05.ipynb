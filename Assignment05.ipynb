{
  "nbformat": 4,
  "nbformat_minor": 0,
  "metadata": {
    "colab": {
      "name": "Assignment05.ipynb",
      "provenance": [],
      "authorship_tag": "ABX9TyMZ/fJfJYn0uwCYcLLtCYmv",
      "include_colab_link": true
    },
    "kernelspec": {
      "name": "python3",
      "display_name": "Python 3"
    }
  },
  "cells": [
    {
      "cell_type": "markdown",
      "metadata": {
        "id": "view-in-github",
        "colab_type": "text"
      },
      "source": [
        "<a href=\"https://colab.research.google.com/github/fxnnxc/class-MachineLearning/blob/master/Assignment05.ipynb\" target=\"_parent\"><img src=\"https://colab.research.google.com/assets/colab-badge.svg\" alt=\"Open In Colab\"/></a>"
      ]
    },
    {
      "cell_type": "markdown",
      "metadata": {
        "id": "D7yZMkYHKQQj",
        "colab_type": "text"
      },
      "source": [
        "# Assignment05 \n",
        "Logistic Regression\n",
        "\n",
        "## 1. Plot the training data\n",
        "\n",
        "plot the training data points (x,y) with their labels in colors (blue for label 0 and red for label 1)"
      ]
    },
    {
      "cell_type": "code",
      "metadata": {
        "id": "ccGPZ48iKOCd",
        "colab_type": "code",
        "colab": {
          "base_uri": "https://localhost:8080/",
          "height": 499
        },
        "outputId": "b4c4759f-6037-403a-fe41-586da65317ae"
      },
      "source": [
        "# Read data\n",
        "import numpy as np\n",
        "import matplotlib.pyplot as plt\n",
        "\n",
        "data    = np.genfromtxt(\"data5.txt\", delimiter=',')\n",
        "\n",
        "x       = data[:, 0]\n",
        "y       = data[:, 1]\n",
        "label   = data[:, 2]\n",
        "\n",
        "x_label0    = x[label == 0]\n",
        "x_label1    = x[label == 1]\n",
        "\n",
        "y_label0    = y[label == 0]\n",
        "y_label1    = y[label == 1]\n",
        "\n",
        "plt.figure(figsize=(8, 8))\n",
        "plt.scatter(x_label0, y_label0, alpha=0.3, c='b')\n",
        "plt.scatter(x_label1, y_label1, alpha=0.3, c='r')\n",
        "plt.title('Training Data')\n",
        "plt.show()"
      ],
      "execution_count": 2,
      "outputs": [
        {
          "output_type": "display_data",
          "data": {
            "image/png": "[encoded data removed]",
            "text/plain": [
              "<Figure size 576x576 with 1 Axes>"
            ]
          },
          "metadata": {
            "tags": [],
            "needs_background": "light"
          }
        }
      ]
    },
    {
      "cell_type": "markdown",
      "metadata": {
        "id": "a9imkR1YLaTf",
        "colab_type": "text"
      },
      "source": [
        "## 2. Plot the estimated parameters\n",
        "\n",
        "$σ(z)$ where $z= \\theta_0 + \\theta_1 x + \\theta_2 y$"
      ]
    },
    {
      "cell_type": "code",
      "metadata": {
        "id": "QSzstdJXLdp2",
        "colab_type": "code",
        "colab": {}
      },
      "source": [
        "# Define Functions\n",
        "import math\n",
        "\n",
        "def sigmoid(x):\n",
        "  return 1/(1+math.exp(-x))\n",
        "\n",
        "def deriv_sigmoid(x):\n",
        "  T = sigmoid(x)\n",
        "  return T*(1- T)\n",
        "\n",
        "def loss(t0,t1,t2, data):\n",
        "  Z = [(t0+t1*d[0]+t2*d[1],d[2]) for d in data] \n",
        "  return sum([-z[1]*math.log(sigmoid(z[0]))-(1-z[1])*math.log(1-sigmoid(z[0])) for z in Z] )/len(data)"
      ],
      "execution_count": 0,
      "outputs": []
    },
    {
      "cell_type": "code",
      "metadata": {
        "id": "gwbWQeZwMCt_",
        "colab_type": "code",
        "colab": {}
      },
      "source": [
        "# Define Hyperparameters\n",
        "lr = 0.0001\n",
        "theta = [0,0,0]"
      ],
      "execution_count": 0,
      "outputs": []
    },
    {
      "cell_type": "code",
      "metadata": {
        "id": "NwUBskipMD7r",
        "colab_type": "code",
        "colab": {}
      },
      "source": [
        "# Training \n",
        "J  = loss(theta[0],theta[1],theta[2],data)\n",
        "THETA = [theta]\n",
        "LOSS = [J]\n",
        "\n",
        "while True:\n",
        "  temp = J\n",
        "  M = len(data)\n",
        "  # Update Theta\n",
        "  t0,t1,t2 = theta\n",
        "  theta[0] =theta[0] - lr* sum([sigmoid(t0+t1*d[0]+t2*d[1]) - d[2] for d in data])/M\n",
        "  theta[1] =theta[1] - lr* sum([(sigmoid(t0+t1*d[0]+t2*d[1]) - d[2])*d[0] for d in data])/M\n",
        "  theta[2] =theta[2] - lr* sum([(sigmoid(t0+t1*d[0]+t2*d[1]) - d[2])*d[1] for d in data])/M\n",
        "  THETA.append([theta[0], theta[1],theta[2]]) # Store Theta\n",
        "\n",
        "  # Update and Store Loss\n",
        "  J = loss(theta[0], theta[1], theta[2], data)\n",
        "  LOSS.append(J)\n",
        "  if abs(t0-theta[0])  + abs(t1-theta[1]) + abs(t2-theta[2])  <0.00001: # Convergence\n",
        "    break"
      ],
      "execution_count": 0,
      "outputs": []
    },
    {
      "cell_type": "code",
      "metadata": {
        "id": "Cqotg6dEQpO8",
        "colab_type": "code",
        "colab": {
          "base_uri": "https://localhost:8080/",
          "height": 298
        },
        "outputId": "3c4885c8-9296-4dd2-967d-3a21fa5803aa"
      },
      "source": [
        "import matplotlib.pyplot as plt\n",
        "\n",
        "colors = ['red', 'green', 'blue'] \n",
        "for i in range(3): # 색깔별로 출력\n",
        "  plt.plot([THETA[j][i] for j in range(len(THETA))], c=colors[i])\n",
        "plt.legend(['theta0', 'theta1', 'theta2'])\n",
        "plt.title('estimated parameters using the training dataest')"
      ],
      "execution_count": 44,
      "outputs": [
        {
          "output_type": "execute_result",
          "data": {
            "text/plain": [
              "Text(0.5, 1.0, 'estimated parameters using the training dataest')"
            ]
          },
          "metadata": {
            "tags": []
          },
          "execution_count": 44
        },
        {
          "output_type": "display_data",
          "data": {
            "image/png": "[encoded data removed]",
            "text/plain": [
              "<Figure size 432x288 with 1 Axes>"
            ]
          },
          "metadata": {
            "tags": [],
            "needs_background": "light"
          }
        }
      ]
    },
    {
      "cell_type": "code",
      "metadata": {
        "id": "2Fu5lppWR1lf",
        "colab_type": "code",
        "colab": {}
      },
      "source": [
        ""
      ],
      "execution_count": 0,
      "outputs": []
    }
  ]
}