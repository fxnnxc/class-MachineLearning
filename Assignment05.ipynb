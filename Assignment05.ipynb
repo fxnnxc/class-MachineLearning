{
  "nbformat": 4,
  "nbformat_minor": 0,
  "metadata": {
    "colab": {
      "name": "Assignment05.ipynb",
      "provenance": [],
      "authorship_tag": "ABX9TyMGguDOEKknMm2PgM3TxNgx",
      "include_colab_link": true
    },
    "kernelspec": {
      "name": "python3",
      "display_name": "Python 3"
    }
  },
  "cells": [
    {
      "cell_type": "markdown",
      "metadata": {
        "id": "view-in-github",
        "colab_type": "text"
      },
      "source": [
        "<a href=\"https://colab.research.google.com/github/fxnnxc/class-MachineLearning/blob/master/Assignment05.ipynb\" target=\"_parent\"><img src=\"https://colab.research.google.com/assets/colab-badge.svg\" alt=\"Open In Colab\"/></a>"
      ]
    },
    {
      "cell_type": "markdown",
      "metadata": {
        "id": "D7yZMkYHKQQj",
        "colab_type": "text"
      },
      "source": [
        "# Assignment05 \n",
        "Logistic Regression\n",
        "\n",
        "## 1. Plot the training data\n",
        "\n",
        "plot the training data points (x,y) with their labels in colors (blue for label 0 and red for label 1)"
      ]
    },
    {
      "cell_type": "code",
      "metadata": {
        "id": "ccGPZ48iKOCd",
        "colab_type": "code",
        "colab": {
          "base_uri": "https://localhost:8080/",
          "height": 499
        },
        "outputId": "b4c4759f-6037-403a-fe41-586da65317ae"
      },
      "source": [
        "# Read data\n",
        "import numpy as np\n",
        "import matplotlib.pyplot as plt\n",
        "\n",
        "data    = np.genfromtxt(\"data5.txt\", delimiter=',')\n",
        "\n",
        "x       = data[:, 0]\n",
        "y       = data[:, 1]\n",
        "label   = data[:, 2]\n",
        "\n",
        "x_label0    = x[label == 0]\n",
        "x_label1    = x[label == 1]\n",
        "\n",
        "y_label0    = y[label == 0]\n",
        "y_label1    = y[label == 1]\n",
        "\n",
        "plt.figure(figsize=(8, 8))\n",
        "plt.scatter(x_label0, y_label0, alpha=0.3, c='b')\n",
        "plt.scatter(x_label1, y_label1, alpha=0.3, c='r')\n",
        "plt.title('Training Data')\n",
        "plt.show()"
      ],
      "execution_count": 2,
      "outputs": [
        {
          "output_type": "display_data",
          "data": {
            "image/png": "[encoded data removed]",
            "text/plain": [
              "<Figure size 576x576 with 1 Axes>"
            ]
          },
          "metadata": {
            "tags": [],
            "needs_background": "light"
          }
        }
      ]
    }
  ]
}