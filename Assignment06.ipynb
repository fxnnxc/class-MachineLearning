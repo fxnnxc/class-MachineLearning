{
  "nbformat": 4,
  "nbformat_minor": 0,
  "metadata": {
    "colab": {
      "name": "Assignment06.ipynb",
      "provenance": [],
      "authorship_tag": "ABX9TyMGabFokLAC+pJTBkua+HVi",
      "include_colab_link": true
    },
    "kernelspec": {
      "name": "python3",
      "display_name": "Python 3"
    }
  },
  "cells": [
    {
      "cell_type": "markdown",
      "metadata": {
        "id": "view-in-github",
        "colab_type": "text"
      },
      "source": [
        "<a href=\"https://colab.research.google.com/github/fxnnxc/class-MachineLearning/blob/master/Assignment06.ipynb\" target=\"_parent\"><img src=\"https://colab.research.google.com/assets/colab-badge.svg\" alt=\"Open In Colab\"/></a>"
      ]
    },
    {
      "cell_type": "markdown",
      "metadata": {
        "id": "Zj2PHI3W3HM8",
        "colab_type": "text"
      },
      "source": [
        "# Assignment 06\n",
        "\n"
      ]
    },
    {
      "cell_type": "code",
      "metadata": {
        "id": "RJjNL4-F4RP0",
        "colab_type": "code",
        "colab": {}
      },
      "source": [
        "# Import necessary libraries\n",
        "import numpy as np\n",
        "import matplotlib.pyplot as plt "
      ],
      "execution_count": 0,
      "outputs": []
    },
    {
      "cell_type": "code",
      "metadata": {
        "id": "y9WR_Z623GYZ",
        "colab_type": "code",
        "colab": {}
      },
      "source": [
        "# Read the data\n",
        "data = np.genfromtxt(\"data6.txt\", delimiter=',')\n",
        "\n",
        "pointX = data[:,0]\n",
        "pointY = data[:,1]\n",
        "label = data[:,2]\n",
        "\n",
        "# Store each labels for plot \n",
        "pointX0 =pointX[label==0]\n",
        "pointX1 =pointX[label==1]\n",
        "pointY0 =pointY[label==0]\n",
        "pointY1 =pointY[label==1]"
      ],
      "execution_count": 0,
      "outputs": []
    },
    {
      "cell_type": "code",
      "metadata": {
        "id": "3C-Bav253-4v",
        "colab_type": "code",
        "colab": {}
      },
      "source": [
        "# haperparameters "
      ],
      "execution_count": 0,
      "outputs": []
    },
    {
      "cell_type": "code",
      "metadata": {
        "id": "9QwbdqsT4C21",
        "colab_type": "code",
        "colab": {}
      },
      "source": [
        "# Functions"
      ],
      "execution_count": 0,
      "outputs": []
    },
    {
      "cell_type": "code",
      "metadata": {
        "id": "M1KN1oXC4FiH",
        "colab_type": "code",
        "colab": {}
      },
      "source": [
        "# Training"
      ],
      "execution_count": 0,
      "outputs": []
    },
    {
      "cell_type": "markdown",
      "metadata": {
        "id": "yp5kCdpI3QAA",
        "colab_type": "text"
      },
      "source": [
        "## Results"
      ]
    },
    {
      "cell_type": "code",
      "metadata": {
        "id": "v2n0ZLYb3RKh",
        "colab_type": "code",
        "colab": {
          "base_uri": "https://localhost:8080/",
          "height": 487
        },
        "outputId": "c9c036c5-f8f8-43b3-c58d-d967232c0099"
      },
      "source": [
        "# 1. Plot the training data\n",
        "\n",
        "plt.figure(figsize=(7,7))\n",
        "plt.scatter(pointX0, pointY0, c='b')\n",
        "plt.scatter(pointX1, pointY1, c='r')\n",
        "plt.tight_layout()\n",
        "plt.gca().set_aspect('equal', adjustable='box')\n",
        "plt.show()"
      ],
      "execution_count": 17,
      "outputs": [
        {
          "output_type": "display_data",
          "data": {
            "image/png": "[encoded data removed]",
            "text/plain": [
              "<Figure size 504x504 with 1 Axes>"
            ]
          },
          "metadata": {
            "tags": [],
            "needs_background": "light"
          }
        }
      ]
    },
    {
      "cell_type": "code",
      "metadata": {
        "id": "fGjdOkKJ3Svt",
        "colab_type": "code",
        "colab": {}
      },
      "source": [
        "# 2. Write down the high dimensional function   [2pt]\n",
        "# write down the equation for the non-linear function   used for the classifier"
      ],
      "execution_count": 0,
      "outputs": []
    },
    {
      "cell_type": "code",
      "metadata": {
        "id": "s1y-Wbh43XyU",
        "colab_type": "code",
        "colab": {}
      },
      "source": [
        "# 3.  Plot the training error [3pt] \n",
        "# plot the training error   at every iteration of gradient descent until convergence (in blue color)"
      ],
      "execution_count": 0,
      "outputs": []
    },
    {
      "cell_type": "code",
      "metadata": {
        "id": "P5XlzKAT3d4h",
        "colab_type": "code",
        "colab": {}
      },
      "source": [
        "# 4. Plot the training accuracy [3pt]\n",
        "# plot the training accuracy at every iteration of gradient descent until convergence (in red color)\n"
      ],
      "execution_count": 0,
      "outputs": []
    },
    {
      "cell_type": "code",
      "metadata": {
        "id": "vPAobuHD3k8M",
        "colab_type": "code",
        "colab": {}
      },
      "source": [
        "# 5.  Write down the final training accuracy [2pt]\n",
        "# present the final training accuracy at convergence\n"
      ],
      "execution_count": 0,
      "outputs": []
    },
    {
      "cell_type": "code",
      "metadata": {
        "id": "eZgml7rf3n0c",
        "colab_type": "code",
        "colab": {
          "base_uri": "https://localhost:8080/",
          "height": 55
        },
        "outputId": "9c3fc02b-5deb-41c4-e455-8c5ee1764ad1"
      },
      "source": [
        "# 6. Plot the optimal classifier superimposed on the training data [5pt\n",
        "#plot the boundary of the optimal classifier at convergence (in green color) \n",
        "#the boundary of the classifier is defined by [~~~] plot the training data points  \n",
        "# with their labels  in colors superimposed on the illustration of the classifier (blue for label 0 and red for label 1)\n",
        "# you can use contour function in python3\"\"\"\n"
      ],
      "execution_count": 5,
      "outputs": [
        {
          "output_type": "execute_result",
          "data": {
            "text/plain": [
              "'\\nplot the boundary of the optimal classifier at convergence (in green color) \\nthe boundary of the classifier is defined by\\xa0[~~~] plot the training data points\\xa0 \\n\\xa0with their labels\\xa0\\xa0in colors superimposed on the illustration of the classifier (blue for label 0 and red for label 1)\\n you can use\\xa0contour\\xa0function in python3'"
            ]
          },
          "metadata": {
            "tags": []
          },
          "execution_count": 5
        }
      ]
    },
    {
      "cell_type": "code",
      "metadata": {
        "id": "ZMH86jwt3zfm",
        "colab_type": "code",
        "colab": {}
      },
      "source": [
        ""
      ],
      "execution_count": 0,
      "outputs": []
    }
  ]
}